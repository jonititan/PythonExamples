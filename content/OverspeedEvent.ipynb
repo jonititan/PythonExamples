{
  "metadata": {
    "kernelspec": {
      "name": "python",
      "display_name": "Pyolite",
      "language": "python"
    },
    "language_info": {
      "codemirror_mode": {
        "name": "python",
        "version": 3
      },
      "file_extension": ".py",
      "mimetype": "text/x-python",
      "name": "python",
      "nbconvert_exporter": "python",
      "pygments_lexer": "ipython3",
      "version": "3.8"
    },
    "vscode": {
      "interpreter": {
        "hash": "984286ea45d3c3cd8adeef721a832682f0fb32782b1c0b9ca5c3f126d4637606"
      }
    }
  },
  "nbformat_minor": 4,
  "nbformat": 4,
  "cells": [
    {
      "cell_type": "markdown",
      "source": "### Overspeed issue\n\nIncident 5th September 2004",
      "metadata": {}
    },
    {
      "cell_type": "code",
      "source": "frame_freq = 0.25 # 1 sub frame per second\n\nflight_data2 = pd.read_csv('data/FDM/FDM_data_02.csv',\n                          skiprows=4,\n                          na_values=['//////',\n                                     'XXXXX',\n                                     '******',\n                                     '------'],\n                          names=['Frame-SF',\n                                 'Time',\n                                 'Status',\n                                 'FDC Event',\n                                 'SPD_MACH_A_M',\n                                 'ALT',\n                                 'FDC HAAL',\n                                 'RALT1',\n                                 'FDC Rate of Descent',\n                                 'CAS',\n                                 'GS',\n                                 'HEADING',\n                                 'ROLL +0s',\n                                 'ROLL +0.5s',\n                                 'EPR_1',\n                                 'EPR_2',\n                                 'PITCH +0s',\n                                 'PITCH +0.25s',\n                                 'PITCH +0.5s',\n                                 'PITCH +0.75s',\n                                 'LDG_LH',\n                                 'ELEV_L',\n                                 'ELEV_R',\n                                 'RUDDER +0s',\n                                 'RUDDER +0.5s',\n                                 'VRTG +0s',\n                                 'VRTG +0.125s',\n                                 'VRTG +0.25s',\n                                 'VRTG +0.375s',\n                                 'VRTG +0.5s',\n                                 'VRTG +0.625s',\n                                 'VRTG +0.75s',\n                                 'VRTG +0.875s',\n                                 'SP2_L',\n                                 'SP4_L',\n                                 'SP5_L',\n                                 'TAT',\n                                 'LATG +0s',\n                                 'LATG +0.25s',\n                                 'LATG +0.5s',\n                                 'LATG +0.75',\n                                 'LONG +0s',\n                                 'LONG +0.25s',\n                                 'LONG +0.5s',\n                                 'LONG +0.75s',\n                                 'FLAPS',\n                                 'SLATS',\n                                 'GLID1DOT',\n                                 'LOC1DOT',\n                                 'ATS_ENGAGED',\n                                 'AP_1',\n                                 'AP_2',\n                                 'FDC Phase of Flight ID',\n                                 'REV_DEPLOYD1',\n                                 'REV_DEPLOYD2',\n                                 'GPWS_M_ON',\n                                 'GPWS_VA_ON',\n                                 'VMO_MMO_OVS']\n                        )",
      "metadata": {
        "trusted": true
      },
      "execution_count": null,
      "outputs": []
    },
    {
      "cell_type": "code",
      "source": "flight_data2.head()",
      "metadata": {
        "trusted": true
      },
      "execution_count": null,
      "outputs": []
    },
    {
      "cell_type": "code",
      "source": "normal_accelerations = ['VRTG +0s','VRTG +0.125s','VRTG +0.25s','VRTG +0.375s','VRTG +0.5s','VRTG +0.625s','VRTG +0.75s','VRTG +0.875s']\nflight_data2[normal_accelerations].head()",
      "metadata": {
        "trusted": true
      },
      "execution_count": null,
      "outputs": []
    },
    {
      "cell_type": "code",
      "source": "",
      "metadata": {},
      "execution_count": null,
      "outputs": []
    }
  ]
}