{
  "metadata": {
    "kernelspec": {
      "name": "python",
      "display_name": "Pyolite",
      "language": "python"
    },
    "language_info": {
      "codemirror_mode": {
        "name": "python",
        "version": 3
      },
      "file_extension": ".py",
      "mimetype": "text/x-python",
      "name": "python",
      "nbconvert_exporter": "python",
      "pygments_lexer": "ipython3",
      "version": "3.8"
    },
    "vscode": {
      "interpreter": {
        "hash": "984286ea45d3c3cd8adeef721a832682f0fb32782b1c0b9ca5c3f126d4637606"
      }
    }
  },
  "nbformat_minor": 4,
  "nbformat": 4,
  "cells": [
    {
      "cell_type": "markdown",
      "source": "### Cabin pressurisation issue\n\nIncident 29th October 2003\n\nFile Format\n\n.csv\n\nLine \n\n0  = metadata (File date, aircraft reg, etc)\n\n1  = more metadata\n\n2  =  Field names\n\n3  =  Field Abbreviations\n\n4  =  Units\n\n5  =  Data Start\n\nWhere a variable is recorded at higher than the frame rate it is presented in multiple sequential columns. \n \nThe field name is listed for the first column and subsequent columns have a blank field name.\n\nHowever on lines 2 and 3 the abbreviation and units for the field are listed for each column.\n\n//////  = nan\n\nXXXXX   = nan\n\n******  = nan\n\n------  = nan",
      "metadata": {}
    },
    {
      "cell_type": "code",
      "source": "import pandas as pd",
      "metadata": {
        "trusted": true
      },
      "execution_count": null,
      "outputs": []
    },
    {
      "cell_type": "code",
      "source": "frame_freq = 0.25 # 1 sub frame per second\n\nflight_data1 = pd.read_csv('data/FDM/FDM_data_01.csv',\n                          skiprows=5,\n                          na_values=['//////',\n                                     'XXXXX',\n                                     '******',\n                                     '------'],\n                          names=['Frame-SF',\n                                 'Time',\n                                 'Status',\n                                 'PRESS ALT (ft)',\n                                 'COMP AIRSPD DADC 1 (kts)',\n                                 'EXCESS CABIN ALT',\n                                 'N1 ENG 1 (% RPM)',\n                                 'N1 ENG 2 (% RPM)',\n                                 \"MASTER WARN'G\",\n                                 'SPEED BRAKE +0s',\n                                 'SPEED BRAKE +0.5s',\n                                 'AT #1 ENGAGE',\n                                 'AT #2 ENGAGE'],\n                        )",
      "metadata": {
        "trusted": true
      },
      "execution_count": null,
      "outputs": []
    },
    {
      "cell_type": "markdown",
      "source": "## Try plotting the Altitude and Airspeed using Matplotlib",
      "metadata": {}
    },
    {
      "cell_type": "code",
      "source": "",
      "metadata": {},
      "execution_count": null,
      "outputs": []
    },
    {
      "cell_type": "markdown",
      "source": "## Now lets look at using SQL\n\nhttps://docs.python.org/3/library/sqlite3.html\n\nhttps://docs.sqlalchemy.org/en/14/dialects/sqlite.html\n\nhttps://www.designcise.com/web/tutorial/what-is-the-order-of-execution-of-an-sql-query",
      "metadata": {}
    },
    {
      "cell_type": "code",
      "source": "import sqlite3\nimport sqlalchemy\n\nfrom sqlalchemy import create_engine\nengine = create_engine('sqlite://', echo=False)\nflight_data1.to_sql('flight', con=engine)",
      "metadata": {
        "trusted": true
      },
      "execution_count": null,
      "outputs": []
    },
    {
      "cell_type": "markdown",
      "source": "SQL syntax is not case sensitive but often it is written with commands all caps.  This is a stylistic preference.  Not a requirement",
      "metadata": {}
    },
    {
      "cell_type": "code",
      "source": "engine.execute(\"SELECT * FROM flight\").fetchone()",
      "metadata": {
        "trusted": true
      },
      "execution_count": null,
      "outputs": []
    },
    {
      "cell_type": "markdown",
      "source": "We can find the unique entries in a particular field",
      "metadata": {}
    },
    {
      "cell_type": "code",
      "source": "engine.execute(\"\"\"SELECT distinct \"SPEED BRAKE +0s\" from flight;\"\"\").fetchall()",
      "metadata": {
        "trusted": true
      },
      "execution_count": null,
      "outputs": []
    },
    {
      "cell_type": "code",
      "source": "engine.execute(\"\"\"SELECT distinct \"AT #1 ENGAGE\" from flight;\"\"\").fetchall()",
      "metadata": {
        "trusted": true
      },
      "execution_count": null,
      "outputs": []
    },
    {
      "cell_type": "code",
      "source": "",
      "metadata": {},
      "execution_count": null,
      "outputs": []
    },
    {
      "cell_type": "code",
      "source": "",
      "metadata": {},
      "execution_count": null,
      "outputs": []
    },
    {
      "cell_type": "code",
      "source": "",
      "metadata": {},
      "execution_count": null,
      "outputs": []
    },
    {
      "cell_type": "code",
      "source": "frame_freq = 0.25 # 1 sub frame per second\n\nflight_data2 = pd.read_csv('data/FDM/FDM_data_02.csv',\n                          skiprows=4,\n                          na_values=['//////',\n                                     'XXXXX',\n                                     '******',\n                                     '------'],\n                          names=['Frame-SF',\n                                 'Time',\n                                 'Status',\n                                 'FDC Event',\n                                 'SPD_MACH_A_M',\n                                 'ALT',\n                                 'FDC HAAL',\n                                 'RALT1',\n                                 'FDC Rate of Descent',\n                                 'CAS',\n                                 'GS',\n                                 'HEADING',\n                                 'ROLL +0s',\n                                 'ROLL +0.5s',\n                                 'EPR_1',\n                                 'EPR_2',\n                                 'PITCH +0s',\n                                 'PITCH +0.25s',\n                                 'PITCH +0.5s',\n                                 'PITCH +0.75s',\n                                 'LDG_LH',\n                                 'ELEV_L',\n                                 'ELEV_R',\n                                 'RUDDER +0s',\n                                 'RUDDER +0.5s',\n                                 'VRTG +0s',\n                                 'VRTG +0.125s',\n                                 'VRTG +0.25s',\n                                 'VRTG +0.375s',\n                                 'VRTG +0.5s',\n                                 'VRTG +0.625s',\n                                 'VRTG +0.75s',\n                                 'VRTG +0.875s',\n                                 'SP2_L',\n                                 'SP4_L',\n                                 'SP5_L',\n                                 'TAT',\n                                 'LATG +0s',\n                                 'LATG +0.25s',\n                                 'LATG +0.5s',\n                                 'LATG +0.75',\n                                 'LONG +0s',\n                                 'LONG +0.25s',\n                                 'LONG +0.5s',\n                                 'LONG +0.75s',\n                                 'FLAPS',\n                                 'SLATS',\n                                 'GLID1DOT',\n                                 'LOC1DOT',\n                                 'ATS_ENGAGED',\n                                 'AP_1',\n                                 'AP_2',\n                                 'FDC Phase of Flight ID',\n                                 'REV_DEPLOYD1',\n                                 'REV_DEPLOYD2',\n                                 'GPWS_M_ON',\n                                 'GPWS_VA_ON',\n                                 'VMO_MMO_OVS']\n                        )",
      "metadata": {
        "trusted": true
      },
      "execution_count": null,
      "outputs": []
    },
    {
      "cell_type": "code",
      "source": "flight_data2.head()",
      "metadata": {
        "trusted": true
      },
      "execution_count": null,
      "outputs": []
    },
    {
      "cell_type": "code",
      "source": "normal_accelerations = ['VRTG +0s','VRTG +0.125s','VRTG +0.25s','VRTG +0.375s','VRTG +0.5s','VRTG +0.625s','VRTG +0.75s','VRTG +0.875s']\nflight_data2[normal_accelerations].head()",
      "metadata": {
        "trusted": true
      },
      "execution_count": null,
      "outputs": []
    },
    {
      "cell_type": "code",
      "source": "",
      "metadata": {},
      "execution_count": null,
      "outputs": []
    }
  ]
}
