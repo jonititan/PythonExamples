{
  "cells": [
    {
      "cell_type": "markdown",
      "metadata": {
        "tags": []
      },
      "source": [
        "# Introduction to Python and Vibration\n",
        "\n",
        "Generally you will be creating environments in python on your computers or servers.  There the use of virtual environments and/or environment specifications can make things a lot more repeatable.\n",
        "\n",
        "conda env create -f environment.yml\n",
        "\n",
        "__[Conda env documentation](https://docs.conda.io/projects/conda/en/latest/user-guide/tasks/manage-environments.html#creating-an-environment-from-an-environment-yml-file)__\n",
        "\n",
        "python -m pip install -r requirements.txt\n",
        "\n",
        "__[pip environment documentation](https://pip.pypa.io/en/stable/user_guide/?highlight=requirements.txt#requirements-files)__\n",
        "\n"
      ]
    },
    {
      "cell_type": "markdown",
      "metadata": {},
      "source": [
        "__[Python Documentation](https://docs.python.org/3/)__\n",
        "\n",
        "__[Software Carpentry](https://software-carpentry.org/lessons/)__\n",
        "\n",
        "__[Built in Functions](https://docs.python.org/3/library/functions.html)__\n",
        "\n"
      ]
    },
    {
      "cell_type": "markdown",
      "metadata": {},
      "source": [
        "Type Markdown and LaTex: $$a^2$$"
      ]
    },
    {
      "cell_type": "code",
      "execution_count": null,
      "metadata": {},
      "outputs": [],
      "source": [
        "[a for a in range(5)]"
      ]
    },
    {
      "cell_type": "code",
      "execution_count": null,
      "metadata": {},
      "outputs": [],
      "source": [
        "{'our list':[0, 1, 2, 3, 4],\n",
        "'new list':[0,1]}"
      ]
    },
    {
      "cell_type": "code",
      "execution_count": null,
      "metadata": {},
      "outputs": [],
      "source": [
        "(1,2)"
      ]
    },
    {
      "cell_type": "code",
      "execution_count": null,
      "metadata": {},
      "outputs": [],
      "source": [
        "'strings are things'\n",
        "our_list = [a for a in range(5)]\n",
        "our_string = '01234'\n",
        "our_tuple = (0,1,2,3,4)\n",
        "our_dict={'1':1,'2':2}"
      ]
    },
    {
      "cell_type": "code",
      "execution_count": null,
      "metadata": {},
      "outputs": [],
      "source": [
        "our_list"
      ]
    },
    {
      "cell_type": "code",
      "execution_count": null,
      "metadata": {},
      "outputs": [],
      "source": [
        "our_string[0],our_string[-1], our_string"
      ]
    },
    {
      "cell_type": "code",
      "execution_count": null,
      "metadata": {},
      "outputs": [],
      "source": [
        "our_list[2] = 8"
      ]
    },
    {
      "cell_type": "code",
      "execution_count": null,
      "metadata": {},
      "outputs": [],
      "source": [
        "for a in our_dict.values():\n",
        "    print(\"Dict Key {}\".format(a))"
      ]
    },
    {
      "cell_type": "code",
      "execution_count": null,
      "metadata": {},
      "outputs": [],
      "source": [
        "for a in our_list:\n",
        "    print(a)"
      ]
    },
    {
      "cell_type": "code",
      "execution_count": null,
      "metadata": {},
      "outputs": [],
      "source": [
        "for a in our_string:\n",
        "    print(a)"
      ]
    },
    {
      "cell_type": "code",
      "execution_count": 1,
      "metadata": {
        "trusted": true
      },
      "outputs": [
        {
          "name": "stdout",
          "output_type": "stream",
          "text": [
            "ok\n"
          ]
        }
      ],
      "source": [
        "if 10<0:\n",
        "    print('Yes')\n",
        "elif 10<11:\n",
        "    print('ok')\n",
        "else:\n",
        "    print('No')"
      ]
    },
    {
      "cell_type": "code",
      "execution_count": null,
      "metadata": {},
      "outputs": [],
      "source": [
        "def first_func(x, y=2):\n",
        "    '''Takes a number defaulting to 2 and adds y'''\n",
        "    return x+y"
      ]
    },
    {
      "cell_type": "code",
      "execution_count": null,
      "metadata": {},
      "outputs": [],
      "source": [
        "first_func(8, y=20)"
      ]
    },
    {
      "cell_type": "code",
      "execution_count": null,
      "metadata": {},
      "outputs": [],
      "source": [
        "help(first_func)"
      ]
    },
    {
      "cell_type": "markdown",
      "metadata": {},
      "source": [
        "__[Numpy Documentation Style Guide](https://numpydoc.readthedocs.io/en/latest/format.html)__\n",
        "\n",
        "__[Docstring Guide](https://numpydoc.readthedocs.io/en/latest/format.html#docstring-standard)__"
      ]
    },
    {
      "cell_type": "markdown",
      "metadata": {},
      "source": [
        "# Aircraft Sizing\n",
        "a worked example in python 3 of chapter 3 from Aircraft Design: A Conceptual Approach 3rd edition by Daniel P. Raymer. using the ASW(Anti Submarine Warface) aircraft as an example.  Where possible no libraries not in an anaconda distribution basic install will be used.\n",
        "<br/><br/>\n",
        "**Mission:** <br/>Fly 1500nm (2778km) at M=0.6 carrying 10000lb (4535.924kg) of equipment and 4 crew members at 800lb (363.874kg), loiter on station for 3 hrs then return.\n",
        "# Takeoff Gross Weight Estimation\n",
        "\n",
        "\n",
        "$$Takeoff\\; Gross\\; Weight = W_0\\\\ \n",
        "Crew\\; Weight = W_{crew}\\\\ \n",
        "Payload\\; Weight = W_{payload}\\\\ \n",
        "Fuel\\; Weight = W_{fuel}\\\\ \n",
        "Aircraft\\; Empty\\; Weight = W_{empty}\\\\ \n",
        "W_0 = W_{crew} + W_{payload} + W_{fuel} + W_{empty}$$\n",
        "\n",
        "- Simplification of the equation\n",
        "$$Empty\\; Weight\\; Fraction = \\frac{W_{empty}}{W_0}\\\\ \n",
        "Fuel\\; Fraction = \\frac{W_{fuel}}{W_0}\\\\\n",
        "W_0 = W_{crew} + W_{payload} + (\\frac{W_{fuel}}{W_0})W_0 + (\\frac{W_{empty}}{W_0})W_0$$\n",
        "- Solving for $W_0$ as follows\n",
        "$$ W_0 - (\\frac{W_{fuel}}{W_0})W_0 - (\\frac{W_{empty}}{W_0})W_0 = W_{crew} + W_{payload}$$\n",
        "$$W_0 = \\frac{W_{crew} + W_{payload}}{1-(\\frac{W_{fuel}}{W_0})-(\\frac{W_{empty}}{W_0})}$$\n",
        "Since $W_{crew}$ and $W_{payload}$ are normally in the aircraft design requirments this then allows us to estimate the takeoff gross weight $W_0$ of the proposed aircraft by selecting appropriate empty weight fraction $\\frac{W_{empty}}{W_0}$ and fuel fractions $\\frac{W_{fuel}}{W_0}$ based on historical trends and our understanding of the aircraft role based on its design requirments."
      ]
    },
    {
      "cell_type": "code",
      "execution_count": null,
      "metadata": {},
      "outputs": [],
      "source": [
        "def TGW(EmptyW_F, Fuel_F, Crew_W, Payload_W):\n",
        "    return (Crew_W+Payload_W)/(1-Fuel_F-EmptyW_F)\n",
        "#e.g. ASW example\n",
        "Crew_Weight = 800 #lb\n",
        "Payload_Weight = 10000 #lb\n",
        "Fuel_Fraction = 0.387\n",
        "Empty_Weight_Fraction = 0.4361\n",
        "print(\"Crew Weight %.2f lb\" % (Crew_Weight))\n",
        "print(\"Payload Weight %.2f lb\" % (Payload_Weight))\n",
        "print(\"Fuel Fraction %.4f\" % (Fuel_Fraction,))\n",
        "print(\"Empty Weight Fractiont %.4f\" % (Empty_Weight_Fraction,))\n",
        "TGW_tmp_1 = TGW(Empty_Weight_Fraction, Fuel_Fraction, Crew_Weight, Payload_Weight)\n",
        "print(\"Takeoff Gross Weight W_0 %.2f lb\" % (TGW_tmp_1))"
      ]
    },
    {
      "cell_type": "markdown",
      "metadata": {},
      "source": [
        "# Empty Weight Estimation\n",
        "Empty weight fractions are estimated based on historical trends for aircraft based on their roles and sized takeoff weight.  Raymer suggests a $5\\%$ reduction should be applied if the proposed aircraft is to be of composite construction.  He suggests that there is not yet enough information to base this reduction in a study of actual aircraft.  Perhaps by now there is such a study and this notebook will perhaps be updated to reflect that in the future.\n",
        "$$Historical\\; metric\\; = A\\\\\n",
        "Variable\\; Wing\\; Sweep\\; penalty\\; = K_{vs}\\\\\n",
        "K_{vs} = 1.04\\; if\\; variable\\; sweep\\; K_{vs} = 1\\; otherwise\\\\\n",
        " \\\\\n",
        "Weight\\; Sensitivity\\; Exponent\\; = C\\\\\n",
        "\\frac{W_{empty}}{W_0} = A {W_0}^C K_{vs}$$"
      ]
    },
    {
      "cell_type": "code",
      "execution_count": null,
      "metadata": {},
      "outputs": [],
      "source": [
        "def EWF(TakeoffG_W,HS_metric,WeightS_E,VWS=False,VWS_penalty=1.04):\n",
        "    if VWS:\n",
        "        VWS_p_factor = VWS_penalty\n",
        "    else:\n",
        "        VWS_p_factor = 1\n",
        "        \n",
        "    return HS_metric*pow(TakeoffG_W, WeightS_E)*VWS_p_factor\n",
        "\n",
        "bomber_HS_metric = 0.93\n",
        "bomber_weight_sensitivty_e = -0.07\n",
        "estimated_TGW = 50000\n",
        "print(EWF(estimated_TGW,bomber_HS_metric,bomber_weight_sensitivty_e))"
      ]
    },
    {
      "cell_type": "markdown",
      "metadata": {},
      "source": [
        "# Fuel Fraction Estimation\n",
        "To estimate the fuel fraction of the aircraft we need to understand more about how it will be used to inform us regarding the rate of fuel consumption at different points during the mission and the aerodynamics.<br/>\n",
        "An aircraft mission can be broken down into multiple segments.  The weight at the start of the mission is taken as the Takeoff Gross Weight $W_0$ and for each mission segment $i$ the weight of the aircraft at the end of that segment will be $W_i$.  The weight fraction of each segment is expressed as $(\\frac{W_i}{W_{i-1}})$.  In a mission with a total number of segments $x$ the weight of the aircraft at the end of the mission will be $W_x$.  The ratio $\\frac{W_x}{W_0}$ can then be used to calculate the fuel fraction.  In our simple sizing study we presume no other weight change apart from fuel burn occurs during the mission.  Raymer suggests a $6\\%$ allowance should be made for reserve and trapped fuel.\n",
        "$$\\frac{W_{fuel}}{W_0} = 1.06(1 - \\frac{W_x}{W_0})$$"
      ]
    },
    {
      "cell_type": "code",
      "execution_count": null,
      "metadata": {},
      "outputs": [],
      "source": [
        "def FF(mission_ratio,RT_Allowance=1.06):\n",
        "    return RT_Allowance*(1-mission_ratio)"
      ]
    },
    {
      "cell_type": "markdown",
      "metadata": {},
      "source": [
        "# Cruise fuel burn\n",
        "Cruise weight fractions can be found by using the breguet range equation\n",
        "$$Range = R\\; in\\; ft\\\\\n",
        "Specific\\; Fuel\\; Consumption = C \\\\\n",
        "Velocity = V\\; in\\; \\frac{ft}{s}\\\\\n",
        "Lift\\; to\\; Drag\\; ratio\\; = \\frac{L}{D} \\\\\n",
        "R = \\frac{V}{C} \\frac{L}{D} \\ln(\\frac{W_{i-1}}{W_i})$$\n",
        "\n",
        "Which can be rearranged to give the weight fraction for that segment.\n",
        "$$\\frac{W_i}{W_{i-1}} = exp(\\frac{-R C}{V (\\frac{L}{D})})$$\n"
      ]
    },
    {
      "cell_type": "code",
      "execution_count": null,
      "metadata": {},
      "outputs": [],
      "source": [
        "import numpy\n",
        "def cruise_WF(Range, Specific_FC, velocity, LD_ratio):\n",
        "    return numpy.exp((-1*Range*Specific_FC)/(velocity*LD_ratio))\n",
        "\n",
        "high_bypass_turbofan_cruise_SFC = 0.0001389"
      ]
    },
    {
      "cell_type": "markdown",
      "metadata": {},
      "source": [
        "# Loiter fuel burn\n",
        "Loiter weight fractions can be found using the endurance equation.\n",
        "$$ Endurance = E\\; in\\; s\\\\\n",
        "E = \\frac{\\frac{L}{D}}{C}\\ln(\\frac{W_{i-1}}{W_i})$$\n",
        "Rearranged again to put it in terms of the weight fraction we get\n",
        "$$\\frac{W_i}{W_{i-1}} = exp(\\frac{-E C}{(\\frac{L}{D})})$$"
      ]
    },
    {
      "cell_type": "code",
      "execution_count": null,
      "metadata": {},
      "outputs": [],
      "source": [
        "def loiter_WF(Endurance, Specific_FC, LD_ratio):\n",
        "    return numpy.exp((-1*Endurance*Specific_FC)/(LD_ratio))\n",
        "\n",
        "high_bypass_turbofan_loiter_SFC = 0.0001111"
      ]
    },
    {
      "cell_type": "markdown",
      "metadata": {},
      "source": [
        "# L/D Ratio esimation\n",
        "\n",
        "Raymer suggests that during initial sizing for a jet aircraft the cruise L/D should be taken as 86.6% of the maximum L/D of the aircraft.  The loiter L/D ratio will of course be the maxium L/D as loiter is done in the most efficent configuration to ensure as much time on station as possible.\n",
        "\n",
        "This then leavs us with the problem of estimating L/D.\n",
        "Raymer suggests estimating it based on the wetted aspect ratio of the aircraft.  This then leaves us to use the conceptual sketch which has been done of the ASW aircraft concept Raymer use as an example and he gives the wetted area ratio $\\frac{S_{wet}}{S_{ref}}$ as 5.5 and the wetted aspect ratio is 1.27.  Looking up these values on the figure he provides on page 26 gives us our design L/D max of 16."
      ]
    },
    {
      "cell_type": "code",
      "execution_count": null,
      "metadata": {},
      "outputs": [],
      "source": [
        "class AircraftMission:\n",
        "    variable_stan_disp = {'name':{'description':'Name:','format':'%s'},\n",
        "                         'weight_fraction':{'description':'WF:','format':'%.4f'},\n",
        "                         'description':{'description':'Description:','format':'%s'},\n",
        "                         'segment':{'description':'Segment:','format':'%i'}}\n",
        "    def __init__(self):\n",
        "        self.segments=[]\n",
        "    \n",
        "    def append_segment(self, seg_name, seg_WF, seg_description='None Provided'):\n",
        "        no_of_segments = len(self.segments)\n",
        "        self.segments.append({'segment':no_of_segments+1,'name':seg_name,'weight_fraction':seg_WF,'description':seg_description})\n",
        "    \n",
        "    def mission_weight_ratio(self):\n",
        "        no_of_segments = len(self.segments)\n",
        "        if no_of_segments <= 0:\n",
        "            raise ValueError('No mission segments have been added to the mission!')\n",
        "        \n",
        "        mwr = 1\n",
        "        for a in range(0,no_of_segments):\n",
        "            mwr = mwr*self.segments[a]['weight_fraction']\n",
        "        return mwr\n",
        "    \n",
        "    def landing_weight(self, TakeoffG_W):\n",
        "        return TakeoffG_W * self.mission_weight_ratio()\n",
        "    \n",
        "    def display_mission(self,itp=['segment','name','weight_fraction','description'],p_dict=variable_stan_disp):\n",
        "        no_of_segments = len(self.segments)\n",
        "        if no_of_segments <= 0:\n",
        "            raise ValueError('No mission segments have been added to the mission!')\n",
        "        \n",
        "        for a in range(0,no_of_segments):\n",
        "            disp_list = [p_dict[item_a]['description']+p_dict[item_a]['format']+' ' for item_a in itp]\n",
        "            variable_list = [self.segments[a][item_b] for item_b in itp]\n",
        "            disp_string = ''.join(disp_list) % tuple(variable_list)\n",
        "            print(disp_string)"
      ]
    },
    {
      "cell_type": "code",
      "execution_count": null,
      "metadata": {},
      "outputs": [],
      "source": [
        "\n",
        "ASW_LD_max = 16\n",
        "cruise_LD_ratio = ASW_LD_max * 0.866\n",
        "loiter_LD_ratio = ASW_LD_max\n",
        "cruise_velocity = 596.9 # ft/s\n",
        "cruise_SFC = high_bypass_turbofan_cruise_SFC\n",
        "loiter_SFC = high_bypass_turbofan_loiter_SFC\n",
        "mission_loiter = 10800 # 3h in s\n",
        "landing_loiter = 1200 # 20 min in s\n",
        "cruise_range = 9114000 # 1500nm in ft\n",
        "\n",
        "ASW_Mission = AircraftMission()\n",
        "ASW_Mission.append_segment('Warmup and Takeoff',0.97)\n",
        "ASW_Mission.append_segment('Climb',0.985)\n",
        "ASW_Mission.append_segment('Cruise',cruise_WF(cruise_range,cruise_SFC,cruise_velocity,cruise_LD_ratio),seg_description='1500 nm range') \n",
        "ASW_Mission.append_segment('Loiter',loiter_WF(mission_loiter,loiter_SFC,loiter_LD_ratio),seg_description='3 hr Loiter') \n",
        "ASW_Mission.append_segment('Cruise',cruise_WF(cruise_range,cruise_SFC,cruise_velocity,cruise_LD_ratio),seg_description='1500 nm range') # 1500 nm\n",
        "ASW_Mission.append_segment('Loiter',loiter_WF(landing_loiter,loiter_SFC,loiter_LD_ratio),seg_description='20 minute loiter') #20 mins\n",
        "ASW_Mission.append_segment('Land',0.995)\n",
        "ASW_Mission.display_mission()\n",
        "\n",
        "MWR_tmp = ASW_Mission.mission_weight_ratio()\n",
        "print(\"Misson Weight Ratio %.4f\" % (MWR_tmp,))\n",
        "FF_tmp = FF(MWR_tmp)\n",
        "print(\"Fuel Fraction %.4f\" % (FF_tmp,))\n",
        "TakeoffG_W_estimate = 50000\n",
        "EWF_tmp = EWF(TakeoffG_W_estimate,0.93,-0.07)\n",
        "print(\"Empty Weight Fraction %.5f based on TGW W_0 estimate %.3f lb\" % (EWF_tmp,TakeoffG_W_estimate))\n",
        "TGW_tmp = TGW(EWF_tmp , FF_tmp, Crew_Weight, Payload_Weight)\n",
        "print(\"Takeoff Gross Weight W_0 %.3f lb\"  % (TGW_tmp))\n",
        "LGW_tmp = ASW_Mission.landing_weight(TGW_tmp)\n",
        "print(\"Landing Gross Weight W_x %.3f lb\"  % (LGW_tmp))\n",
        "fuel_burn = TGW_tmp-LGW_tmp\n",
        "print(\"Fuel Burned %.3f lb\"  % (fuel_burn))\n",
        "\n",
        "\n",
        "    \n",
        "def calc_WG0(WGV,Fuel_F,Crew_W, Payload_W, HS_metric,WeightS_E,VWS=False,VWS_penalty=1.04):\n",
        "    EWF_calc = EWF(WGV,HS_metric,WeightS_E,VWS=False,VWS_penalty=1.04)\n",
        "    return TGW(EWF_calc, Fuel_F, Crew_W, Payload_W)\n",
        "\n",
        "def diff_calc_WG0(WGV,Fuel_F,Crew_W, Payload_W, HS_metric,WeightS_E,VWS=False,VWS_penalty=1.04):\n",
        "    tmp_wgv = calc_WG0(WGV,Fuel_F,Crew_W, Payload_W, HS_metric,WeightS_E,VWS,VWS_penalty)\n",
        "    result = WGV - tmp_wgv\n",
        "    if result < 0:\n",
        "        mag_result = result * -1\n",
        "    else:\n",
        "        mag_result=result\n",
        "    return mag_result\n",
        "    \n",
        "\n",
        "def calc_WG0_array(WGV_list,Fuel_F,Crew_W, Payload_W, HS_metric,WeightS_E,VWS=False,VWS_penalty=1.04):\n",
        "    WG0_array=[]\n",
        "    EWF_array=[]\n",
        "    diff_array=[]\n",
        "    for a in range(0,len(WGV_list)):\n",
        "        WG0_array.append(calc_WG0(WGV_list[a],Fuel_F,Crew_W, Payload_W, HS_metric,WeightS_E,VWS,VWS_penalty))\n",
        "        EWF_array.append(EWF(WGV_list[a],HS_metric,WeightS_E,VWS=False,VWS_penalty=1.04))\n",
        "        diff_array.append(diff_calc_WG0(WGV_list[a],Fuel_F,Crew_W, Payload_W, HS_metric,WeightS_E,VWS,VWS_penalty))\n",
        "    return WG0_array, EWF_array, diff_array"
      ]
    },
    {
      "cell_type": "markdown",
      "metadata": {},
      "source": [
        "Now that we have created a function for the the formulas and a way to store and interrogate mission profiles we can find the ideal $W_0$ using the iteration method Raymer shows. "
      ]
    },
    {
      "cell_type": "code",
      "execution_count": null,
      "metadata": {},
      "outputs": [],
      "source": [
        "import matplotlib.pyplot as plt\n",
        "\n",
        "WGV_array = [50000]\n",
        "for a in range(0,250):\n",
        "    WGV_array.append(WGV_array[a]+50)\n",
        "    \n",
        "calc_WG0_tmp, calc_EWF_tmp, diff_array = calc_WG0_array(WGV_array,FF_tmp,Crew_Weight, Payload_Weight, bomber_HS_metric,bomber_weight_sensitivty_e)\n",
        "best_guess_index = numpy.argmin(diff_array)\n",
        "fig, ax = plt.subplots()\n",
        "axes = [ax, ax.twinx(), ax.twinx()]\n",
        "fig.subplots_adjust(right=0.75)\n",
        "axes[-1].spines['right'].set_position(('axes', 1.2))\n",
        "axes[0].plot(WGV_array,calc_WG0_tmp,c='b')\n",
        "axes[0].set_title('Estimated vs Calculated Takeoff Gross Weight for\\nASW Mission Best Guess $W_0$:%.3f lb EWF:%.4f' % (WGV_array[best_guess_index],calc_EWF_tmp[best_guess_index]))\n",
        "axes[0].set_ylabel('Calculated $W_0$ (lb)',color='b')\n",
        "axes[0].set_xlabel('Estimated $W_0$ (lb)')\n",
        "axes[0].tick_params('y', colors='b')\n",
        "axes[1].plot(WGV_array,calc_EWF_tmp,c='r')\n",
        "axes[1].set_ylabel('Empty Weight Fraction',color='r')\n",
        "axes[1].tick_params('y', colors='r')\n",
        "axes[2].plot(WGV_array,diff_array,c='g')\n",
        "axes[2].set_ylabel('|difference|',color='g')\n",
        "axes[2].tick_params('y', colors='g')\n",
        "plt.show()"
      ]
    },
    {
      "cell_type": "markdown",
      "metadata": {},
      "source": [
        "# Optimisation\n",
        "In contrast to the method expressed in Raymers book because we have expressed the formulas as python functions we can use the powerful optimisation methods available to us.  Here we use the scipy library minimize method to efficently find the ideal $W_0$ for the mission as defined.\n",
        "\n",
        "Because python has these libraries it makes it much easier to create functions that call other functions and explore the solution space to create optimal aircraft designs."
      ]
    },
    {
      "cell_type": "code",
      "execution_count": null,
      "metadata": {},
      "outputs": [],
      "source": [
        "import scipy.optimize as optimize\n",
        "minimum_W_0 = optimize.minimize(diff_calc_WG0,50000, args = (FF_tmp,Crew_Weight, Payload_Weight, bomber_HS_metric,bomber_weight_sensitivty_e))\n",
        "min_EWF = EWF(minimum_W_0.x,0.93,-0.07)\n",
        "print(\"Optimised Takeoff Gross Weight W_0 found %.3f lb with EWF %.4f\" % (minimum_W_0.x,min_EWF))"
      ]
    },
    {
      "cell_type": "code",
      "execution_count": null,
      "metadata": {},
      "outputs": [],
      "source": [
        "print('Difference between the Takeoff Gross Weight W_0 estimations: {} lbs'.format((WGV_array[best_guess_index] - minimum_W_0.x)[0]))\n",
        "print('Difference between the Empty Weight Fraction EWF estimations: {} %'.format(100*((calc_EWF_tmp[best_guess_index] - min_EWF)[0])))"
      ]
    },
    {
      "cell_type": "markdown",
      "metadata": {},
      "source": [
        "# Vibration"
      ]
    },
    {
      "cell_type": "code",
      "execution_count": null,
      "metadata": {},
      "outputs": [],
      "source": [
        "import scipy.signal as signal\n",
        "import scipy.fftpack as fftpack\n",
        "from matplotlib.ticker import EngFormatter\n",
        "import numpy as np\n",
        "\n",
        "formatter_db = EngFormatter(unit='dB')\n",
        "formatter_freq = EngFormatter(unit='Hz')\n",
        "formatter_time = EngFormatter(unit='s')\n",
        "formatter_V = EngFormatter(unit='V')\n",
        "\n",
        "def butter_bandpass(lowcut, highcut, fs, order=5):\n",
        "    nyq = 0.5 * fs\n",
        "    low = lowcut / nyq\n",
        "    high = highcut / nyq\n",
        "    b, a = signal.butter(order, [low, high], btype='band')\n",
        "    return b, a\n",
        "\n",
        "\n",
        "def butter_bandpass_filter(data, lowcut, highcut, fs, order=5):\n",
        "    b, a = butter_bandpass(lowcut, highcut, fs, order=order)\n",
        "    y = signal.lfilter(b, a, data)\n",
        "    return y\n",
        "\n",
        "def decibel(val_array):\n",
        "    abs_val_array = np.abs(val_array)\n",
        "    array_max = np.amax(abs_val_array)\n",
        "    return 20*np.log10(np.divide(abs_val_array, array_max))"
      ]
    },
    {
      "cell_type": "code",
      "execution_count": null,
      "metadata": {},
      "outputs": [],
      "source": [
        "## Sample rate and desired cutoff frequencies (in Hz).\n",
        "fs = 4000000.0\n",
        "sim_gear_freq = 5400 #tri wave\n",
        "sim_signal_freq = 50000 #sine wave\n",
        "zoom_offset = 1000  \n",
        "\n",
        "Vpp_sim_signal = 0.0004\n",
        "Vpp_sim_gear = 0.4\n",
        "\n",
        "\n",
        "lowcut = sim_signal_freq - 5000\n",
        "highcut = sim_signal_freq + 5000\n",
        "# Plot the frequency response for a few different orders.\n",
        "\n",
        "\n",
        "# Filter a noisy signal.\n",
        "T = 0.1# tim_lim=0.0003\n",
        "nsamples = int(T * fs)\n",
        "t = np.linspace(0, T, nsamples, endpoint=False)\n",
        "\n",
        "\n",
        "x = 0.5 * Vpp_sim_gear * signal.sawtooth(2 * np.pi * sim_gear_freq * t)\n",
        "x += 0.5 * Vpp_sim_signal * np.cos(2 * np.pi * sim_signal_freq * t)\n",
        "\n",
        "freq_data =  fftpack.fftfreq(nsamples) * fs\n",
        "x_fft = decibel(fftpack.fft(x))\n",
        "fft_frequencies = fftpack.fftshift(freq_data)\n",
        "fft_amplitudes = fftpack.fftshift(x_fft)"
      ]
    },
    {
      "cell_type": "code",
      "execution_count": null,
      "metadata": {},
      "outputs": [],
      "source": [
        "fig, ax = plt.subplots(nrows=3,figsize=(12,6))\n",
        "ax[0].plot(t,0.5 * Vpp_sim_gear * signal.sawtooth(2 * np.pi * sim_gear_freq * t),'yellow',label='Gearmesh Signal')\n",
        "ax[0].yaxis.set_major_formatter(formatter_V)\n",
        "ax[0].xaxis.set_major_formatter(formatter_time)\n",
        "ax[0].set_xlim((0,0.0003))\n",
        "ax[0].legend()\n",
        "ax[1].plot(t,0.5 * Vpp_sim_signal * np.cos(2 * np.pi * sim_signal_freq * t),'red',label='MF Signal')\n",
        "ax[1].yaxis.set_major_formatter(formatter_V)\n",
        "ax[1].xaxis.set_major_formatter(formatter_time)\n",
        "ax[1].set_xlim((0,0.0003))\n",
        "ax[1].legend()\n",
        "#ax[3].set_xscale('log')\n",
        "ax[2].yaxis.set_major_formatter(formatter_db)\n",
        "ax[2].xaxis.set_major_formatter(formatter_freq)\n",
        "ax[2].plot(fft_frequencies,fft_amplitudes, color='blue')\n",
        "ax[2].axvline(sim_gear_freq, linestyle=':',color='r', label='{} Tri'.format(formatter_freq(sim_gear_freq)),zorder=0)\n",
        "ax[2].set_xlim((0,50000))\n",
        "plt.tight_layout()\n",
        "plt.show()"
      ]
    },
    {
      "cell_type": "markdown",
      "metadata": {},
      "source": [
        "# Exercise\n",
        "\n",
        "## How can you find the signal peak frequency?"
      ]
    },
    {
      "cell_type": "code",
      "execution_count": null,
      "metadata": {},
      "outputs": [],
      "source": []
    },
    {
      "cell_type": "markdown",
      "metadata": {},
      "source": [
        "## How might we simulate noise in the signal?"
      ]
    },
    {
      "cell_type": "code",
      "execution_count": null,
      "metadata": {},
      "outputs": [],
      "source": []
    },
    {
      "cell_type": "markdown",
      "metadata": {},
      "source": [
        "## Does the phase of the signals matter?  How might we explore that?"
      ]
    },
    {
      "cell_type": "code",
      "execution_count": null,
      "metadata": {},
      "outputs": [],
      "source": []
    },
    {
      "cell_type": "markdown",
      "metadata": {},
      "source": [
        "## Try to implement a short time fourier transform and plot the result\n",
        "\n",
        "[Short Time Fourier Transform function](https://docs.scipy.org/doc/scipy/reference/generated/scipy.signal.stft.html#scipy.signal.stft)"
      ]
    },
    {
      "cell_type": "code",
      "execution_count": null,
      "metadata": {},
      "outputs": [],
      "source": []
    },
    {
      "cell_type": "markdown",
      "metadata": {},
      "source": [
        "## Envelope Detection\n",
        "\n",
        "[Envelope detection using Hilbert Transform](https://docs.scipy.org/doc/scipy/reference/generated/scipy.signal.hilbert.html)"
      ]
    },
    {
      "cell_type": "markdown",
      "metadata": {},
      "source": []
    }
  ],
  "metadata": {
    "kernelspec": {
      "display_name": "Python 3.8.2 ('FDM')",
      "language": "python",
      "name": "python3"
    },
    "language_info": {
      "codemirror_mode": {
        "name": "python",
        "version": 3
      },
      "file_extension": ".py",
      "mimetype": "text/x-python",
      "name": "python",
      "nbconvert_exporter": "python",
      "pygments_lexer": "ipython3",
      "version": "3.8.2"
    },
    "vscode": {
      "interpreter": {
        "hash": "984286ea45d3c3cd8adeef721a832682f0fb32782b1c0b9ca5c3f126d4637606"
      }
    }
  },
  "nbformat": 4,
  "nbformat_minor": 4
}
