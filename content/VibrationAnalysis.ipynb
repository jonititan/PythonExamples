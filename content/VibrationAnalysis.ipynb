{
  "cells": [
    {
      "cell_type": "code",
      "execution_count": null,
      "metadata": {},
      "outputs": [],
      "source": [
        "import scipy.signal as signal\n",
        "import scipy.fftpack as fftpack\n",
        "from matplotlib.ticker import EngFormatter\n",
        "import numpy as np\n",
        "import matplotlib.pyplot as plt\n",
        "\n",
        "formatter_db = EngFormatter(unit='dB')\n",
        "formatter_freq = EngFormatter(unit='Hz')\n",
        "formatter_time = EngFormatter(unit='s')\n",
        "formatter_V = EngFormatter(unit='V')\n",
        "\n",
        "def butter_bandpass(lowcut, highcut, fs, order=5):\n",
        "    nyq = 0.5 * fs\n",
        "    low = lowcut / nyq\n",
        "    high = highcut / nyq\n",
        "    b, a = signal.butter(order, [low, high], btype='band')\n",
        "    return b, a\n",
        "\n",
        "\n",
        "def butter_bandpass_filter(data, lowcut, highcut, fs, order=5):\n",
        "    b, a = butter_bandpass(lowcut, highcut, fs, order=order)\n",
        "    y = signal.lfilter(b, a, data)\n",
        "    return y\n",
        "\n",
        "def decibel(val_array):\n",
        "    abs_val_array = np.abs(val_array)\n",
        "    array_max = np.amax(abs_val_array)\n",
        "    return 20*np.log10(np.divide(abs_val_array, array_max))"
      ]
    },
    {
      "cell_type": "code",
      "execution_count": null,
      "metadata": {},
      "outputs": [],
      "source": [
        "## Sample rate and desired cutoff frequencies (in Hz).\n",
        "fs = 4000000.0\n",
        "sim_gear_freq = 5400 #tri wave\n",
        "sim_signal_freq = 50000 #sine wave\n",
        "zoom_offset = 1000  \n",
        "\n",
        "Vpp_sim_signal = 0.0004\n",
        "Vpp_sim_gear = 0.4\n",
        "\n",
        "\n",
        "lowcut = sim_signal_freq - 5000\n",
        "highcut = sim_signal_freq + 5000\n",
        "# Plot the frequency response for a few different orders.\n",
        "\n",
        "\n",
        "# Filter a noisy signal.\n",
        "T = 0.1# tim_lim=0.0003\n",
        "nsamples = int(T * fs)\n",
        "t = np.linspace(0, T, nsamples, endpoint=False)\n",
        "\n",
        "\n",
        "x = 0.5 * Vpp_sim_gear * signal.sawtooth(2 * np.pi * sim_gear_freq * t)\n",
        "x += 0.5 * Vpp_sim_signal * np.cos(2 * np.pi * sim_signal_freq * t)\n",
        "\n",
        "freq_data =  fftpack.fftfreq(nsamples) * fs\n",
        "x_fft = decibel(fftpack.fft(x))\n",
        "fft_frequencies = fftpack.fftshift(freq_data)\n",
        "fft_amplitudes = fftpack.fftshift(x_fft)"
      ]
    },
    {
      "cell_type": "code",
      "execution_count": null,
      "metadata": {},
      "outputs": [],
      "source": [
        "fig, ax = plt.subplots(nrows=3,figsize=(12,6))\n",
        "ax[0].plot(t,0.5 * Vpp_sim_gear * signal.sawtooth(2 * np.pi * sim_gear_freq * t),'yellow',label='Gearmesh Signal')\n",
        "ax[0].yaxis.set_major_formatter(formatter_V)\n",
        "ax[0].xaxis.set_major_formatter(formatter_time)\n",
        "ax[0].set_xlim((0,0.0003))\n",
        "ax[0].legend()\n",
        "ax[1].plot(t,0.5 * Vpp_sim_signal * np.cos(2 * np.pi * sim_signal_freq * t),'red',label='MF Signal')\n",
        "ax[1].yaxis.set_major_formatter(formatter_V)\n",
        "ax[1].xaxis.set_major_formatter(formatter_time)\n",
        "ax[1].set_xlim((0,0.0003))\n",
        "ax[1].legend()\n",
        "#ax[3].set_xscale('log')\n",
        "ax[2].yaxis.set_major_formatter(formatter_db)\n",
        "ax[2].xaxis.set_major_formatter(formatter_freq)\n",
        "ax[2].plot(fft_frequencies,fft_amplitudes, color='blue')\n",
        "ax[2].axvline(sim_gear_freq, linestyle=':',color='r', label='{} Tri'.format(formatter_freq(sim_gear_freq)),zorder=0)\n",
        "ax[2].set_xlim((0,50000))\n",
        "plt.tight_layout()\n",
        "plt.show()"
      ]
    }
  ],
  "metadata": {
    "kernelspec": {
      "display_name": "Python 3.8.2 ('FDM')",
      "language": "python",
      "name": "python3"
    },
    "language_info": {
      "codemirror_mode": {
        "name": "python",
        "version": 3
      },
      "file_extension": ".py",
      "mimetype": "text/x-python",
      "name": "python",
      "nbconvert_exporter": "python",
      "pygments_lexer": "ipython3",
      "version": "3.8.2"
    },
    "orig_nbformat": 4,
    "vscode": {
      "interpreter": {
        "hash": "984286ea45d3c3cd8adeef721a832682f0fb32782b1c0b9ca5c3f126d4637606"
      }
    }
  },
  "nbformat": 4,
  "nbformat_minor": 4
}
