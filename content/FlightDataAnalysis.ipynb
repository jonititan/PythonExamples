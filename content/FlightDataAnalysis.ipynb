{
  "cells": [
    {
      "cell_type": "code",
      "execution_count": null,
      "metadata": {},
      "outputs": [],
      "source": [
        "import pandas as pd\n",
        "import matplotlib.pyplot as plt\n"
      ]
    },
    {
      "cell_type": "code",
      "execution_count": null,
      "metadata": {},
      "outputs": [],
      "source": [
        "#Example ADS-B data gathered from flightradar24\n",
        "flight = pd.read_csv('data/24299085.csv')\n",
        "\n",
        "print(list(flight))"
      ]
    },
    {
      "cell_type": "code",
      "execution_count": null,
      "metadata": {},
      "outputs": [],
      "source": [
        "#We can use simple accessor methods to find out useful data\n",
        "flight['Altitude'].min(),flight['Altitude'].max()"
      ]
    },
    {
      "cell_type": "code",
      "execution_count": null,
      "metadata": {},
      "outputs": [],
      "source": [
        "#We can do more complex operations like finding the difference between each successive pair of value\n",
        "flight['diff'] = flight['Altitude'].diff()"
      ]
    },
    {
      "cell_type": "code",
      "execution_count": null,
      "metadata": {},
      "outputs": [],
      "source": [
        "flight['diff'].min(),flight['diff'].max()"
      ]
    },
    {
      "cell_type": "code",
      "execution_count": null,
      "metadata": {},
      "outputs": [],
      "source": [
        "#We can also create functions to apply to our data\n",
        "def energy(speed,altitude,mass,gravity=9.81):\n",
        "    ke=0.5*mass*speed**2\n",
        "    pe=mass*gravity*altitude\n",
        "    return ke+pe"
      ]
    },
    {
      "cell_type": "code",
      "execution_count": null,
      "metadata": {},
      "outputs": [],
      "source": [
        "#Using 5000kg as reasonably wrong answer for Jetstream 31\n",
        "print(energy(flight['Speed'],flight['Altitude'],5000))"
      ]
    },
    {
      "cell_type": "code",
      "execution_count": null,
      "metadata": {},
      "outputs": [],
      "source": [
        "#We can also apply it in a vectorised fashion on our pandas dataframe which is more efficent if your data is large\n",
        "mass=5000\n",
        "gravity=9.81\n",
        "flight['ke'] = flight.apply(lambda r: 0.5*mass*r['Speed']**2,axis=1)\n",
        "flight['pe'] = flight.apply(lambda r: gravity*mass*r['Altitude'],axis=1)"
      ]
    },
    {
      "cell_type": "code",
      "execution_count": null,
      "metadata": {},
      "outputs": [],
      "source": [
        "flight.head()"
      ]
    },
    {
      "cell_type": "code",
      "execution_count": null,
      "metadata": {},
      "outputs": [],
      "source": [
        "flight['Datetime'] = pd.to_datetime(flight['UTC'],utc=True)"
      ]
    },
    {
      "cell_type": "code",
      "execution_count": null,
      "metadata": {},
      "outputs": [],
      "source": [
        "fig, axes = plt.subplots(3,1,sharex='all')\n",
        "axes[0].plot(flight['Datetime'],flight['Altitude'])\n",
        "axes[0].set_ylabel('Altitude')\n",
        "axes[1].plot(flight['Datetime'],flight['Speed'])\n",
        "axes[1].set_ylabel('Speed')\n",
        "axes[2].plot(flight['Datetime'],flight['Direction'])\n",
        "axes[2].set_ylabel('Direction')\n",
        "axes[2].set_xlabel('UTC')\n",
        "fig.tight_layout()\n",
        "plt.show()"
      ]
    },
    {
      "cell_type": "code",
      "execution_count": null,
      "metadata": {},
      "outputs": [],
      "source": [
        "fig, axes = plt.subplots(4,1,sharex='all')\n",
        "axes[0].plot(flight['Datetime'],flight['Altitude'])\n",
        "axes[0].set_ylabel('Alt')\n",
        "axes[1].plot(flight['Datetime'],flight['Speed'])\n",
        "axes[1].set_ylabel('Speed')\n",
        "axes[2].plot(flight['Datetime'],flight['ke'])\n",
        "axes[2].set_ylabel('KE')\n",
        "axes[3].plot(flight['Datetime'],flight['pe'])\n",
        "axes[3].set_ylabel('PE')\n",
        "axes[3].set_xlabel('UTC')\n",
        "fig.tight_layout()\n",
        "plt.show()"
      ]
    },
    {
      "cell_type": "code",
      "execution_count": null,
      "metadata": {},
      "outputs": [],
      "source": [
        "coords = [[float(b) for b in a.split(',')] for a in flight['Position']]\n",
        "#This is a nest list comphrehension to convert the paired coordinates from their \n",
        "# comma seperated string format to a pair of floats"
      ]
    },
    {
      "cell_type": "code",
      "execution_count": null,
      "metadata": {},
      "outputs": [],
      "source": [
        "flight['latitude'] = [a for a,b in coords]"
      ]
    },
    {
      "cell_type": "code",
      "execution_count": null,
      "metadata": {},
      "outputs": [],
      "source": [
        "flight['longitude'] = [b for a,b in coords]"
      ]
    },
    {
      "cell_type": "code",
      "execution_count": null,
      "metadata": {},
      "outputs": [],
      "source": [
        "%pip install -q folium"
      ]
    },
    {
      "cell_type": "code",
      "execution_count": null,
      "metadata": {},
      "outputs": [],
      "source": [
        "import folium\n",
        "\n",
        "m = folium.Map()\n",
        "folium.PolyLine(zip(flight['latitude'],flight['longitude']), color=\"red\", weight=2.5, opacity=1).add_to(m)\n",
        "folium.LayerControl().add_to(m)\n",
        "m.fit_bounds(m.get_bounds())\n",
        "m"
      ]
    }
  ],
  "metadata": {
    "kernelspec": {
      "display_name": "Python 3.8.2 ('FDM')",
      "language": "python",
      "name": "python3"
    },
    "language_info": {
      "codemirror_mode": {
        "name": "python",
        "version": 3
      },
      "file_extension": ".py",
      "mimetype": "text/x-python",
      "name": "python",
      "nbconvert_exporter": "python",
      "pygments_lexer": "ipython3",
      "version": "3.8.2"
    },
    "orig_nbformat": 4,
    "vscode": {
      "interpreter": {
        "hash": "984286ea45d3c3cd8adeef721a832682f0fb32782b1c0b9ca5c3f126d4637606"
      }
    }
  },
  "nbformat": 4,
  "nbformat_minor": 4
}
