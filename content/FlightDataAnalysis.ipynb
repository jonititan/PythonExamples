{
  "metadata": {
    "kernelspec": {
      "name": "python",
      "display_name": "Python (Pyodide)",
      "language": "python"
    },
    "language_info": {
      "codemirror_mode": {
        "name": "python",
        "version": 3
      },
      "file_extension": ".py",
      "mimetype": "text/x-python",
      "name": "python",
      "nbconvert_exporter": "python",
      "pygments_lexer": "ipython3",
      "version": "3.8"
    },
    "vscode": {
      "interpreter": {
        "hash": "984286ea45d3c3cd8adeef721a832682f0fb32782b1c0b9ca5c3f126d4637606"
      }
    }
  },
  "nbformat_minor": 4,
  "nbformat": 4,
  "cells": [
    {
      "cell_type": "code",
      "source": "import pandas as pd\nimport matplotlib.pyplot as plt\n",
      "metadata": {
        "trusted": true
      },
      "execution_count": null,
      "outputs": []
    },
    {
      "cell_type": "code",
      "source": "#Example ADS-B data gathered from flightradar24\nflight = pd.read_csv('data/24299085.csv')\n\nprint(list(flight))",
      "metadata": {
        "trusted": true
      },
      "execution_count": null,
      "outputs": []
    },
    {
      "cell_type": "code",
      "source": "#We can use simple accessor methods to find out useful data\nflight['Altitude'].min(),flight['Altitude'].max()",
      "metadata": {
        "trusted": true
      },
      "execution_count": null,
      "outputs": []
    },
    {
      "cell_type": "code",
      "source": "#We can do more complex operations like finding the difference between each successive pair of value\nflight['diff'] = flight['Altitude'].diff()",
      "metadata": {
        "trusted": true
      },
      "execution_count": null,
      "outputs": []
    },
    {
      "cell_type": "code",
      "source": "flight['diff'].min(),flight['diff'].max()",
      "metadata": {
        "trusted": true
      },
      "execution_count": null,
      "outputs": []
    },
    {
      "cell_type": "code",
      "source": "#We can also create functions to apply to our data\ndef energy(speed,altitude,mass,gravity=9.81):\n    ke=0.5*mass*speed**2\n    pe=mass*gravity*altitude\n    return ke+pe",
      "metadata": {
        "trusted": true
      },
      "execution_count": null,
      "outputs": []
    },
    {
      "cell_type": "code",
      "source": "#Using 5000kg as reasonably wrong answer for Jetstream 31\nprint(energy(flight['Speed'],flight['Altitude'],5000))",
      "metadata": {
        "trusted": true
      },
      "execution_count": null,
      "outputs": []
    },
    {
      "cell_type": "code",
      "source": "#We can also apply it in a vectorised fashion on our pandas dataframe which is more efficent if your data is large\nmass=5000\ngravity=9.81\nflight['ke'] = flight.apply(lambda r: 0.5*mass*r['Speed']**2,axis=1)\nflight['pe'] = flight.apply(lambda r: gravity*mass*r['Altitude'],axis=1)",
      "metadata": {
        "trusted": true
      },
      "execution_count": null,
      "outputs": []
    },
    {
      "cell_type": "code",
      "source": "flight.head()",
      "metadata": {
        "trusted": true
      },
      "execution_count": null,
      "outputs": []
    },
    {
      "cell_type": "code",
      "source": "flight['Datetime'] = pd.to_datetime(flight['UTC'],utc=True)",
      "metadata": {
        "trusted": true
      },
      "execution_count": null,
      "outputs": []
    },
    {
      "cell_type": "code",
      "source": "fig, axes = plt.subplots(3,1,sharex='all')\naxes[0].plot(flight['Datetime'],flight['Altitude'])\naxes[0].set_ylabel('Altitude')\naxes[1].plot(flight['Datetime'],flight['Speed'])\naxes[1].set_ylabel('Speed')\naxes[2].plot(flight['Datetime'],flight['Direction'])\naxes[2].set_ylabel('Direction')\naxes[2].set_xlabel('UTC')\nfig.tight_layout()\nplt.show()",
      "metadata": {
        "trusted": true
      },
      "execution_count": null,
      "outputs": []
    },
    {
      "cell_type": "code",
      "source": "fig, axes = plt.subplots(4,1,sharex='all')\naxes[0].plot(flight['Datetime'],flight['Altitude'])\naxes[0].set_ylabel('Alt')\naxes[1].plot(flight['Datetime'],flight['Speed'])\naxes[1].set_ylabel('Speed')\naxes[2].plot(flight['Datetime'],flight['ke'])\naxes[2].set_ylabel('KE')\naxes[3].plot(flight['Datetime'],flight['pe'])\naxes[3].set_ylabel('PE')\naxes[3].set_xlabel('UTC')\nfig.tight_layout()\nplt.show()",
      "metadata": {
        "trusted": true
      },
      "execution_count": null,
      "outputs": []
    },
    {
      "cell_type": "code",
      "source": "coords = [[float(b) for b in a.split(',')] for a in flight['Position']]\n#This is a nest list comphrehension to convert the paired coordinates from their \n# comma seperated string format to a pair of floats",
      "metadata": {
        "trusted": true
      },
      "execution_count": null,
      "outputs": []
    },
    {
      "cell_type": "code",
      "source": "flight['latitude'] = [a for a,b in coords]",
      "metadata": {
        "trusted": true
      },
      "execution_count": null,
      "outputs": []
    },
    {
      "cell_type": "code",
      "source": "flight['longitude'] = [b for a,b in coords]",
      "metadata": {
        "trusted": true
      },
      "execution_count": null,
      "outputs": []
    },
    {
      "cell_type": "code",
      "source": "%pip install -q folium",
      "metadata": {
        "trusted": true
      },
      "execution_count": null,
      "outputs": []
    },
    {
      "cell_type": "code",
      "source": "import folium\n\nm = folium.Map()\nfolium.PolyLine(zip(flight['latitude'],flight['longitude']), color=\"red\", weight=2.5, opacity=1).add_to(m)\nfolium.LayerControl().add_to(m)\nm.fit_bounds(m.get_bounds())\nm",
      "metadata": {
        "trusted": true
      },
      "execution_count": null,
      "outputs": []
    }
  ]
}
