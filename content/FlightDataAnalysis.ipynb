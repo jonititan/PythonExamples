{
  "metadata": {
    "kernelspec": {
      "name": "python",
      "display_name": "Python (Pyodide)",
      "language": "python"
    },
    "language_info": {
      "codemirror_mode": {
        "name": "python",
        "version": 3
      },
      "file_extension": ".py",
      "mimetype": "text/x-python",
      "name": "python",
      "nbconvert_exporter": "python",
      "pygments_lexer": "ipython3",
      "version": "3.8"
    },
    "vscode": {
      "interpreter": {
        "hash": "984286ea45d3c3cd8adeef721a832682f0fb32782b1c0b9ca5c3f126d4637606"
      }
    }
  },
  "nbformat_minor": 4,
  "nbformat": 4,
  "cells": [
    {
      "cell_type": "code",
      "source": "import pandas as pd\nimport matplotlib.pyplot as plt\n",
      "metadata": {
        "trusted": true
      },
      "execution_count": null,
      "outputs": []
    },
    {
      "cell_type": "code",
      "source": "#Example ADS-B data gathered from flightradar24\nflight = pd.read_csv('data/24299085.csv')\n\nprint(list(flight))",
      "metadata": {
        "trusted": true
      },
      "execution_count": null,
      "outputs": []
    },
    {
      "cell_type": "code",
      "source": "#We can use simple accessor methods to find out useful data\nflight['Altitude'].min(),flight['Altitude'].max()",
      "metadata": {
        "trusted": true
      },
      "execution_count": null,
      "outputs": []
    },
    {
      "cell_type": "code",
      "source": "#We can do more complex operations like finding the difference between each successive pair of value\nflight['diff'] = flight['Altitude'].diff()",
      "metadata": {
        "trusted": true
      },
      "execution_count": null,
      "outputs": []
    },
    {
      "cell_type": "code",
      "source": "flight['diff'].min(),flight['diff'].max()",
      "metadata": {
        "trusted": true
      },
      "execution_count": null,
      "outputs": []
    },
    {
      "cell_type": "code",
      "source": "#We can also create functions to apply to our data\ndef energy(speed,altitude,mass,gravity=9.81):\n    ke=0.5*mass*speed**2\n    pe=mass*gravity*altitude\n    return ke+pe",
      "metadata": {
        "trusted": true
      },
      "execution_count": null,
      "outputs": []
    },
    {
      "cell_type": "code",
      "source": "#Using 5000kg as reasonably wrong answer for Jetstream 31\nprint(energy(flight['Speed'],flight['Altitude'],5000))",
      "metadata": {
        "trusted": true
      },
      "execution_count": null,
      "outputs": []
    },
    {
      "cell_type": "code",
      "source": "#We can also apply it in a vectorised fashion on our pandas dataframe which is more efficent if your data is large\nmass=5000\ngravity=9.81\nflight['ke'] = flight.apply(lambda r: 0.5*mass*r['Speed']**2,axis=1)\nflight['pe'] = flight.apply(lambda r: gravity*mass*r['Altitude'],axis=1)",
      "metadata": {
        "trusted": true
      },
      "execution_count": null,
      "outputs": []
    },
    {
      "cell_type": "code",
      "source": "flight.head()",
      "metadata": {
        "trusted": true
      },
      "execution_count": null,
      "outputs": []
    },
    {
      "cell_type": "code",
      "source": "flight['Datetime'] = pd.to_datetime(flight['UTC'],utc=True)",
      "metadata": {
        "trusted": true
      },
      "execution_count": null,
      "outputs": []
    },
    {
      "cell_type": "code",
      "source": "fig, axes = plt.subplots(3,1,sharex='all')\naxes[0].plot(flight['Datetime'],flight['Altitude'])\naxes[0].set_ylabel('Altitude')\naxes[1].plot(flight['Datetime'],flight['Speed'])\naxes[1].set_ylabel('Speed')\naxes[2].plot(flight['Datetime'],flight['Direction'])\naxes[2].set_ylabel('Direction')\naxes[2].set_xlabel('UTC')\nfig.tight_layout()\nplt.show()",
      "metadata": {
        "trusted": true
      },
      "execution_count": null,
      "outputs": []
    },
    {
      "cell_type": "code",
      "source": "fig, axes = plt.subplots(4,1,sharex='all')\naxes[0].plot(flight['Datetime'],flight['Altitude'])\naxes[0].set_ylabel('Alt')\naxes[1].plot(flight['Datetime'],flight['Speed'])\naxes[1].set_ylabel('Speed')\naxes[2].plot(flight['Datetime'],flight['ke'])\naxes[2].set_ylabel('KE')\naxes[3].plot(flight['Datetime'],flight['pe'])\naxes[3].set_ylabel('PE')\naxes[3].set_xlabel('UTC')\nfig.tight_layout()\nplt.show()",
      "metadata": {
        "trusted": true
      },
      "execution_count": null,
      "outputs": []
    },
    {
      "cell_type": "code",
      "source": "coords = [[float(b) for b in a.split(',')] for a in flight['Position']]\n#This is a nest list comphrehension to convert the paired coordinates from their \n# comma seperated string format to a pair of floats",
      "metadata": {
        "trusted": true
      },
      "execution_count": null,
      "outputs": []
    },
    {
      "cell_type": "code",
      "source": "flight['latitude'] = [a for a,b in coords]",
      "metadata": {
        "trusted": true
      },
      "execution_count": null,
      "outputs": []
    },
    {
      "cell_type": "code",
      "source": "flight['longitude'] = [b for a,b in coords]",
      "metadata": {
        "trusted": true
      },
      "execution_count": null,
      "outputs": []
    },
    {
      "cell_type": "code",
      "source": "%pip install -q folium",
      "metadata": {
        "trusted": true
      },
      "execution_count": null,
      "outputs": []
    },
    {
      "cell_type": "code",
      "source": "import folium\n\nm = folium.Map()\nfolium.PolyLine(zip(flight['latitude'],flight['longitude']), color=\"red\", weight=2.5, opacity=1).add_to(m)\nfolium.LayerControl().add_to(m)\nm.fit_bounds(m.get_bounds())\nm",
      "metadata": {
        "trusted": true
      },
      "execution_count": null,
      "outputs": []
    },
    {
      "cell_type": "markdown",
      "source": "### Case 1\n\nCabin pressurisation issue\n\nIncident 29th October 2003\n\nFile Format\n\n.csv\n\nLine \n\n0  = metadata (File date, aircraft reg, etc)\n\n1  = more metadata\n\n2  =  Field names\n\n3  =  Field Abbreviations\n\n4  =  Units\n\n5  =  Data Start\n\nWhere a variable is recorded at higher than the frame rate it is presented in multiple sequential columns. \n \nThe field name is listed for the first column and subsequent columns have a blank field name.\n\nHowever on lines 2 and 3 the abbreviation and units for the field are listed for each column.\n\n//////  = nan\n\nXXXXX   = nan\n\n******  = nan\n\n------  = nan",
      "metadata": {}
    },
    {
      "cell_type": "code",
      "source": "frame_freq = 0.25 # 1 sub frame per second\n\nflight_data1 = pd.read_csv('data/FDM/FDM_data_01.csv',\n                          skiprows=5,\n                          na_values=['//////',\n                                     'XXXXX',\n                                     '******',\n                                     '------'],\n                          names=['Frame-SF',\n                                 'Time',\n                                 'Status',\n                                 'PRESS ALT (ft)',\n                                 'COMP AIRSPD DADC 1 (kts)',\n                                 'EXCESS CABIN ALT',\n                                 'N1 ENG 1 (% RPM)',\n                                 'N1 ENG 2 (% RPM)',\n                                 \"MASTER WARN'G\",\n                                 'SPEED BRAKE +0s',\n                                 'SPEED BRAKE +0.5s',\n                                 'AT #1 ENGAGE',\n                                 'AT #2 ENGAGE'],\n                        )",
      "metadata": {
        "trusted": true
      },
      "execution_count": null,
      "outputs": []
    },
    {
      "cell_type": "code",
      "source": "def frame_exact_timing(frame_sf_data,time_data,frame_rate):\n    frame_name = frame_sf_data.name\n    time_name = time_data.name\n    dataframe = pd.DataFrame({frame_name:frame_sf_data,time_name:time_data})\n    dataframe['changed'] = dataframe[time_name] == dataframe[time_name].shift(1).fillna(dataframe[time_name])\n    min_changes = dataframe[frame_name][dataframe['changed']==False].index\n    dataframe['seconds'] = 0 \n    first_change=min_changes[0]\n    for a in range(1,60):\n        try:\n            dataframe.loc[first_change-a,'seconds'] = 60-a\n        except IndexError as ie:\n            print(ie)\n                \n        for b in min_changes:\n            try:\n                dataframe.loc[b+a,'seconds'] = a\n            except IndexError as ie:\n                print(ie)\n    \n    return dataframe['seconds']",
      "metadata": {
        "trusted": true
      },
      "execution_count": null,
      "outputs": []
    },
    {
      "cell_type": "code",
      "source": "flight_data1['Frame'] = flight_data1.apply(lambda r : r['Frame-SF'][:5],1)\nflight_data1['Subframe'] = flight_data1.apply(lambda r : r['Frame-SF'][6:],1)\nflight_data1['s past min'] = frame_exact_timing(flight_data1['Frame-SF'],flight_data1['Time'],frame_freq)\n# The flight was 29th October 2003\nflight_data1['Time'] = flight_data1.apply(lambda r : '29/10/2003 ' + r['Time'] + ':' +'{:02}'.format(int(r['s past min'])),1)\nflight_data1['Time (str)'] = flight_data1['Time']\n# https://pandas.pydata.org/pandas-docs/stable/reference/api/pandas.to_datetime.html\n# https://docs.python.org/3/library/datetime.html#strftime-and-strptime-behavior\nflight_data1['Datetime'] = pd.to_datetime(flight_data1['Time'], format='%d/%m/%Y %H:%M:%S')\n# flight_data['Time'] = pd.to_numeric(flight_data['Time'])\ndel flight_data1['s past min']",
      "metadata": {
        "trusted": true
      },
      "execution_count": null,
      "outputs": []
    },
    {
      "cell_type": "code",
      "source": "flight_data1['Time'].head()",
      "metadata": {
        "trusted": true
      },
      "execution_count": null,
      "outputs": []
    },
    {
      "cell_type": "code",
      "source": "flight_data1['Datetime'].head()",
      "metadata": {
        "trusted": true
      },
      "execution_count": null,
      "outputs": []
    },
    {
      "cell_type": "markdown",
      "source": "## Try plotting the Altitude and Airspeed using Matplotlib",
      "metadata": {}
    },
    {
      "cell_type": "code",
      "source": "",
      "metadata": {},
      "execution_count": null,
      "outputs": []
    },
    {
      "cell_type": "markdown",
      "source": "## Now lets look at using SQL\n\nhttps://docs.python.org/3/library/sqlite3.html\n\nhttps://docs.sqlalchemy.org/en/14/dialects/sqlite.html\n\nhttps://www.designcise.com/web/tutorial/what-is-the-order-of-execution-of-an-sql-query",
      "metadata": {}
    },
    {
      "cell_type": "code",
      "source": "import sqlite3\nimport sqlalchemy\n\nfrom sqlalchemy import create_engine\nengine = create_engine('sqlite://', echo=False)\nflight_data1.to_sql('flight', con=engine)",
      "metadata": {
        "trusted": true
      },
      "execution_count": null,
      "outputs": []
    },
    {
      "cell_type": "markdown",
      "source": "SQL syntax is not case sensitive but often it is written with commands all caps.  This is a stylistic preference.  Not a requirement",
      "metadata": {}
    },
    {
      "cell_type": "code",
      "source": "engine.execute(\"SELECT * FROM flight\").fetchone()",
      "metadata": {
        "trusted": true
      },
      "execution_count": null,
      "outputs": []
    },
    {
      "cell_type": "markdown",
      "source": "We can find the unique entries in a particular field",
      "metadata": {}
    },
    {
      "cell_type": "code",
      "source": "engine.execute(\"\"\"SELECT distinct \"SPEED BRAKE +0s\" from flight;\"\"\").fetchall()",
      "metadata": {
        "trusted": true
      },
      "execution_count": null,
      "outputs": []
    },
    {
      "cell_type": "code",
      "source": "engine.execute(\"\"\"SELECT distinct \"AT #1 ENGAGE\" from flight;\"\"\").fetchall()",
      "metadata": {
        "trusted": true
      },
      "execution_count": null,
      "outputs": []
    },
    {
      "cell_type": "code",
      "source": "",
      "metadata": {},
      "execution_count": null,
      "outputs": []
    },
    {
      "cell_type": "code",
      "source": "",
      "metadata": {},
      "execution_count": null,
      "outputs": []
    },
    {
      "cell_type": "code",
      "source": "",
      "metadata": {},
      "execution_count": null,
      "outputs": []
    },
    {
      "cell_type": "markdown",
      "source": "### Case 2\n\nOverspeed issue\n\nIncident 5th September 2004",
      "metadata": {}
    },
    {
      "cell_type": "code",
      "source": "frame_freq = 0.25 # 1 sub frame per second\n\nflight_data2 = pd.read_csv('data/FDM/FDM_data_02.csv',\n                          skiprows=4,\n                          na_values=['//////',\n                                     'XXXXX',\n                                     '******',\n                                     '------'],\n                          names=['Frame-SF',\n                                 'Time',\n                                 'Status',\n                                 'FDC Event',\n                                 'SPD_MACH_A_M',\n                                 'ALT',\n                                 'FDC HAAL',\n                                 'RALT1',\n                                 'FDC Rate of Descent',\n                                 'CAS',\n                                 'GS',\n                                 'HEADING',\n                                 'ROLL +0s',\n                                 'ROLL +0.5s',\n                                 'EPR_1',\n                                 'EPR_2',\n                                 'PITCH +0s',\n                                 'PITCH +0.25s',\n                                 'PITCH +0.5s',\n                                 'PITCH +0.75s',\n                                 'LDG_LH',\n                                 'ELEV_L',\n                                 'ELEV_R',\n                                 'RUDDER +0s',\n                                 'RUDDER +0.5s',\n                                 'VRTG +0s',\n                                 'VRTG +0.125s',\n                                 'VRTG +0.25s',\n                                 'VRTG +0.375s',\n                                 'VRTG +0.5s',\n                                 'VRTG +0.625s',\n                                 'VRTG +0.75s',\n                                 'VRTG +0.875s',\n                                 'SP2_L',\n                                 'SP4_L',\n                                 'SP5_L',\n                                 'TAT',\n                                 'LATG +0s',\n                                 'LATG +0.25s',\n                                 'LATG +0.5s',\n                                 'LATG +0.75',\n                                 'LONG +0s',\n                                 'LONG +0.25s',\n                                 'LONG +0.5s',\n                                 'LONG +0.75s',\n                                 'FLAPS',\n                                 'SLATS',\n                                 'GLID1DOT',\n                                 'LOC1DOT',\n                                 'ATS_ENGAGED',\n                                 'AP_1',\n                                 'AP_2',\n                                 'FDC Phase of Flight ID',\n                                 'REV_DEPLOYD1',\n                                 'REV_DEPLOYD2',\n                                 'GPWS_M_ON',\n                                 'GPWS_VA_ON',\n                                 'VMO_MMO_OVS']\n                        )",
      "metadata": {
        "trusted": true
      },
      "execution_count": null,
      "outputs": []
    },
    {
      "cell_type": "code",
      "source": "flight_data2.head()",
      "metadata": {
        "trusted": true
      },
      "execution_count": null,
      "outputs": []
    },
    {
      "cell_type": "code",
      "source": "normal_accelerations = ['VRTG +0s','VRTG +0.125s','VRTG +0.25s','VRTG +0.375s','VRTG +0.5s','VRTG +0.625s','VRTG +0.75s','VRTG +0.875s']\nflight_data2[normal_accelerations].head()",
      "metadata": {
        "trusted": true
      },
      "execution_count": null,
      "outputs": []
    },
    {
      "cell_type": "code",
      "source": "",
      "metadata": {},
      "execution_count": null,
      "outputs": []
    }
  ]
}
