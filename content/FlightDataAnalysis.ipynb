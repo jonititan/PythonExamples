{
  "cells": [
    {
      "cell_type": "code",
      "execution_count": null,
      "metadata": {},
      "outputs": [],
      "source": [
        "import pandas as pd\n",
        "import matplotlib.pyplot as plt\n"
      ]
    },
    {
      "cell_type": "code",
      "execution_count": null,
      "metadata": {},
      "outputs": [],
      "source": [
        "#Example ADS-B data gathered from flightradar24\n",
        "flight = pd.read_csv('data/24299085.csv')\n",
        "\n",
        "print(list(flight))"
      ]
    },
    {
      "cell_type": "code",
      "execution_count": null,
      "metadata": {},
      "outputs": [],
      "source": [
        "#We can use simple accessor methods to find out useful data\n",
        "flight['Altitude'].min(),flight['Altitude'].max()"
      ]
    },
    {
      "cell_type": "code",
      "execution_count": null,
      "metadata": {},
      "outputs": [],
      "source": [
        "#We can do more complex operations like finding the difference between each successive pair of value\n",
        "flight['diff'] = flight['Altitude'].diff()"
      ]
    },
    {
      "cell_type": "code",
      "execution_count": null,
      "metadata": {},
      "outputs": [],
      "source": [
        "flight['diff'].min(),flight['diff'].max()"
      ]
    },
    {
      "cell_type": "code",
      "execution_count": null,
      "metadata": {},
      "outputs": [],
      "source": [
        "#We can also create functions to apply to our data\n",
        "def energy(speed,altitude,mass,gravity=9.81):\n",
        "    ke=0.5*mass*speed**2\n",
        "    pe=mass*gravity*altitude\n",
        "    return ke+pe"
      ]
    },
    {
      "cell_type": "code",
      "execution_count": null,
      "metadata": {},
      "outputs": [],
      "source": [
        "#Using 5000kg as reasonably wrong answer for Jetstream 31\n",
        "print(energy(flight['Speed'],flight['Altitude'],5000))"
      ]
    },
    {
      "cell_type": "code",
      "execution_count": null,
      "metadata": {},
      "outputs": [],
      "source": [
        "#We can also apply it in a vectorised fashion on our pandas dataframe which is more efficent if your data is large\n",
        "mass=5000\n",
        "gravity=9.81\n",
        "flight['ke'] = flight.apply(lambda r: 0.5*mass*r['Speed']**2,axis=1)\n",
        "flight['pe'] = flight.apply(lambda r: gravity*mass*r['Altitude'],axis=1)"
      ]
    },
    {
      "cell_type": "code",
      "execution_count": null,
      "metadata": {},
      "outputs": [],
      "source": [
        "flight.head()"
      ]
    },
    {
      "cell_type": "code",
      "execution_count": null,
      "metadata": {},
      "outputs": [],
      "source": [
        "flight['Datetime'] = pd.to_datetime(flight['UTC'],utc=True)"
      ]
    },
    {
      "cell_type": "code",
      "execution_count": null,
      "metadata": {},
      "outputs": [],
      "source": [
        "fig, axes = plt.subplots(3,1,sharex='all')\n",
        "axes[0].plot(flight['Datetime'],flight['Altitude'])\n",
        "axes[0].set_ylabel('Altitude')\n",
        "axes[1].plot(flight['Datetime'],flight['Speed'])\n",
        "axes[1].set_ylabel('Speed')\n",
        "axes[2].plot(flight['Datetime'],flight['Direction'])\n",
        "axes[2].set_ylabel('Direction')\n",
        "axes[2].set_xlabel('UTC')\n",
        "fig.tight_layout()\n",
        "plt.show()"
      ]
    },
    {
      "cell_type": "code",
      "execution_count": null,
      "metadata": {},
      "outputs": [],
      "source": [
        "fig, axes = plt.subplots(4,1,sharex='all')\n",
        "axes[0].plot(flight['Datetime'],flight['Altitude'])\n",
        "axes[0].set_ylabel('Alt')\n",
        "axes[1].plot(flight['Datetime'],flight['Speed'])\n",
        "axes[1].set_ylabel('Speed')\n",
        "axes[2].plot(flight['Datetime'],flight['ke'])\n",
        "axes[2].set_ylabel('KE')\n",
        "axes[3].plot(flight['Datetime'],flight['pe'])\n",
        "axes[3].set_ylabel('PE')\n",
        "axes[3].set_xlabel('UTC')\n",
        "fig.tight_layout()\n",
        "plt.show()"
      ]
    },
    {
      "cell_type": "code",
      "execution_count": null,
      "metadata": {},
      "outputs": [],
      "source": [
        "coords = [[float(b) for b in a.split(',')] for a in flight['Position']]\n",
        "#This is a nest list comphrehension to convert the paired coordinates from their \n",
        "# comma seperated string format to a pair of floats"
      ]
    },
    {
      "cell_type": "code",
      "execution_count": null,
      "metadata": {},
      "outputs": [],
      "source": [
        "flight['latitude'] = [a for a,b in coords]"
      ]
    },
    {
      "cell_type": "code",
      "execution_count": null,
      "metadata": {},
      "outputs": [],
      "source": [
        "flight['longitude'] = [b for a,b in coords]"
      ]
    },
    {
      "cell_type": "code",
      "execution_count": null,
      "metadata": {},
      "outputs": [],
      "source": [
        "%pip install -q folium"
      ]
    },
    {
      "cell_type": "code",
      "execution_count": null,
      "metadata": {},
      "outputs": [],
      "source": [
        "import folium\n",
        "\n",
        "m = folium.Map()\n",
        "folium.PolyLine(zip(flight['latitude'],flight['longitude']), color=\"red\", weight=2.5, opacity=1).add_to(m)\n",
        "folium.LayerControl().add_to(m)\n",
        "m.fit_bounds(m.get_bounds())\n",
        "m"
      ]
    },
    {
      "cell_type": "markdown",
      "metadata": {},
      "source": [
        "## Data Loading example\n",
        "\n",
        "\n",
        "File Format\n",
        "\n",
        ".csv\n",
        "\n",
        "Line \n",
        "\n",
        "0  = metadata (File date, aircraft reg, etc)\n",
        "\n",
        "1  = more metadata\n",
        "\n",
        "2  =  Field names\n",
        "\n",
        "3  =  Field Abbreviations\n",
        "\n",
        "4  =  Units\n",
        "\n",
        "5  =  Data Start\n",
        "\n",
        "Where a variable is recorded at higher than the frame rate it is presented in multiple sequential columns. \n",
        " \n",
        "The field name is listed for the first column and subsequent columns have a blank field name.\n",
        "\n",
        "However on lines 2 and 3 the abbreviation and units for the field are listed for each column.\n",
        "\n",
        "//////  = nan\n",
        "\n",
        "XXXXX   = nan\n",
        "\n",
        "******  = nan\n",
        "\n",
        "------  = nan"
      ]
    },
    {
      "cell_type": "code",
      "execution_count": null,
      "metadata": {},
      "outputs": [],
      "source": [
        "frame_freq = 0.25\n",
        "\n",
        "flight_data = pd.read_csv('data/FDM/FDM_data_01.csv',\n",
        "                          skiprows=5,\n",
        "                          na_values=['//////',\n",
        "                                     'XXXXX',\n",
        "                                     '******',\n",
        "                                     '------'],\n",
        "                          names=['Frame-SF',\n",
        "                                 'Time',\n",
        "                                 'Status',\n",
        "                                 'PRESS ALT (ft)',\n",
        "                                 'COMP AIRSPD DADC 1 (kts)',\n",
        "                                 'EXCESS CABIN ALT',\n",
        "                                 'N1 ENG 1 (% RPM)',\n",
        "                                 'N1 ENG 2 (% RPM)',\n",
        "                                 \"MASTER WARN'G\",\n",
        "                                 'SPEED BRAKE +0s',\n",
        "                                 'SPEED BRAKE +0.5s',\n",
        "                                 'AT #1 ENGAGE',\n",
        "                                 'AT #2 ENGAGE'],\n",
        "                        )"
      ]
    },
    {
      "cell_type": "code",
      "execution_count": null,
      "metadata": {},
      "outputs": [],
      "source": [
        "def frame_exact_timing(frame_sf_data,time_data,frame_rate):\n",
        "    frame_name = frame_sf_data.name\n",
        "    time_name = time_data.name\n",
        "    dataframe = pd.DataFrame({frame_name:frame_sf_data,time_name:time_data})\n",
        "    dataframe['changed'] = dataframe[time_name] == dataframe[time_name].shift(1).fillna(dataframe[time_name])\n",
        "    min_changes = dataframe[frame_name][dataframe['changed']==False].index\n",
        "    dataframe['seconds'] = 0 \n",
        "    first_change=min_changes[0]\n",
        "    for a in range(1,60):\n",
        "        try:\n",
        "            dataframe['seconds'].loc[first_change-a] = 60-a\n",
        "        except IndexError as ie:\n",
        "            print(ie)\n",
        "                \n",
        "        for b in min_changes:\n",
        "            try:\n",
        "                dataframe['seconds'].loc[b+a] = a\n",
        "            except IndexError as ie:\n",
        "                print(ie)\n",
        "    \n",
        "    return dataframe['seconds']"
      ]
    },
    {
      "cell_type": "code",
      "execution_count": null,
      "metadata": {},
      "outputs": [],
      "source": [
        "flight_data['Frame'] = flight_data.apply(lambda r : r['Frame-SF'][:5],1)\n",
        "flight_data['Subframe'] = flight_data.apply(lambda r : r['Frame-SF'][6:],1)\n",
        "flight_data['s past min'] = frame_exact_timing(flight_data['Frame-SF'],flight_data['Time'],frame_freq)\n",
        "flight_data['Time'] = flight_data.apply(lambda r : r['Time'] + ':' +str(r['s past min']),1)\n",
        "flight_data['Time (str)'] = flight_data['Time']\n",
        "flight_data['Time'] = pd.to_datetime(flight_data['Time'], format='%H:%M:%S').dt.time\n",
        "del flight_data['s past min']"
      ]
    },
    {
      "cell_type": "markdown",
      "metadata": {},
      "source": [
        "## Try plotting the Altitude and Airspeed using Matplotlib"
      ]
    },
    {
      "cell_type": "code",
      "execution_count": null,
      "metadata": {},
      "outputs": [],
      "source": []
    },
    {
      "cell_type": "markdown",
      "metadata": {},
      "source": [
        "## Now lets look at using SQL\n",
        "\n",
        "https://docs.python.org/3/library/sqlite3.html\n",
        "\n",
        "https://docs.sqlalchemy.org/en/14/dialects/sqlite.html\n",
        "\n",
        "https://www.designcise.com/web/tutorial/what-is-the-order-of-execution-of-an-sql-query"
      ]
    },
    {
      "cell_type": "code",
      "execution_count": null,
      "metadata": {},
      "outputs": [],
      "source": [
        "import sqlite3\n",
        "import sqlalchemy\n",
        "\n",
        "from sqlalchemy import create_engine\n",
        "engine = create_engine('sqlite://', echo=False)\n",
        "flight_data.to_sql('flight', con=engine)"
      ]
    },
    {
      "cell_type": "markdown",
      "metadata": {},
      "source": [
        "SQL syntax is not case sensitive but often it is written with commands all caps.  This is a stylistic preference.  Not a requirement"
      ]
    },
    {
      "cell_type": "code",
      "execution_count": null,
      "metadata": {},
      "outputs": [],
      "source": [
        "engine.execute(\"SELECT * FROM flight\").fetchall()"
      ]
    },
    {
      "cell_type": "markdown",
      "metadata": {},
      "source": [
        "We can find the unique entries in a particular field"
      ]
    },
    {
      "cell_type": "code",
      "execution_count": null,
      "metadata": {},
      "outputs": [],
      "source": [
        "engine.execute(\"\"\"SELECT distinct \"SPEED BRAKE +0s\" from flight;\"\"\").fetchall()"
      ]
    },
    {
      "cell_type": "code",
      "execution_count": null,
      "metadata": {},
      "outputs": [],
      "source": [
        "engine.execute(\"\"\"SELECT distinct \"AT #1 ENGAGE\" from flight;\"\"\").fetchall()"
      ]
    }
  ],
  "metadata": {
    "kernelspec": {
      "display_name": "Python 3.8.2 ('FDM')",
      "language": "python",
      "name": "python3"
    },
    "language_info": {
      "codemirror_mode": {
        "name": "ipython",
        "version": 3
      },
      "file_extension": ".py",
      "mimetype": "text/x-python",
      "name": "python",
      "nbconvert_exporter": "python",
      "pygments_lexer": "ipython3",
      "version": "3.8.2"
    },
    "orig_nbformat": 4,
    "vscode": {
      "interpreter": {
        "hash": "984286ea45d3c3cd8adeef721a832682f0fb32782b1c0b9ca5c3f126d4637606"
      }
    }
  },
  "nbformat": 4,
  "nbformat_minor": 4
}
