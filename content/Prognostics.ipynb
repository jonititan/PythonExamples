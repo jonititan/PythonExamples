{
  "cells": [
    {
      "cell_type": "code",
      "execution_count": null,
      "metadata": {},
      "outputs": [],
      "source": [
        "import pandas\n",
        "import os\n",
        "files={'RUL':['RUL_FD001.txt','RUL_FD002.txt','RUL_FD003.txt','RUL_FD004.txt'],\n",
        "        'test':['test_FD001.txt','test_FD002.txt','test_FD003.txt','test_FD004.txt'],\n",
        "        'train':['train_FD001.txt','train_FD002.txt','train_FD003.txt','train_FD004.txt']}\n",
        "data = pandas.read_csv(os.path.join('data/CMAPSS',files['RUL'][0]))"
      ]
    }
  ],
  "metadata": {
    "kernelspec": {
      "display_name": "Python 3.8.2 ('FDM')",
      "language": "python",
      "name": "python3"
    },
    "language_info": {
      "codemirror_mode": {
        "name": "python",
        "version": 3
      },
      "file_extension": ".py",
      "mimetype": "text/x-python",
      "name": "python",
      "nbconvert_exporter": "python",
      "pygments_lexer": "ipython3",
      "version": "3.8.2"
    },
    "orig_nbformat": 4,
    "vscode": {
      "interpreter": {
        "hash": "984286ea45d3c3cd8adeef721a832682f0fb32782b1c0b9ca5c3f126d4637606"
      }
    }
  },
  "nbformat": 4,
  "nbformat_minor": 4
}
