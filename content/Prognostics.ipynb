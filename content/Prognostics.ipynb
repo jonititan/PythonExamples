{
  "cells": [
    {
      "cell_type": "markdown",
      "metadata": {},
      "source": [
        "# Turbofan Engine Degradation Simulation\n",
        " \n",
        "Engine degradation simulation was carried out using the Commercial Modular Aero-Propulsion System Simulation (C-MAPSS). \n",
        "\n",
        "Four different sets were simulated under different combinations of operational conditions and fault modes. This records several sensor channels to characterize fault evolution. The data set was provided by the NASA Ames Prognostics Center of Excellence (PCoE).\n",
        "\n",
        "Data sets consists of multiple multivariate time series. Each data set is further divided into training and test subsets. Each time series is from a different engine i.e., the data can be considered to be from a fleet of engines of the same type. Each engine starts with different degrees of initial wear and manufacturing variation which is unknown to the user. This wear and variation is considered normal, i.e., it is not considered a fault condition. There are three operational settings that have a substantial effect on engine performance. These settings are also included in the data. The data is contaminated with sensor noise.\n",
        "\n",
        "The engine is operating normally at the start of each time series, and develops a fault at some point during the series. In the training set, the fault grows in magnitude until system failure. In the test set, the time series ends some time prior to system failure. The objective of the competition is to predict the number of remaining operational cycles before failure in the test set, i.e., the number of operational cycles after the last cycle that the engine will continue to operate. Also provided a vector of true Remaining Useful Life (RUL) values for the test data.\n",
        "\n",
        "The data are provided as a zip-compressed text file with 26 columns of numbers, separated by spaces. Each row is a snapshot of data taken during a single operational cycle, each column is a different variable. \n",
        "\n",
        "The columns correspond to:\n",
        "- unit number\n",
        "- time, in cycles\n",
        "- operational setting 1\n",
        "- operational setting 2\n",
        "- operational setting 3\n",
        "- sensor measurement  1\n",
        "- sensor measurement  2\n",
        "- ...\n",
        "- sensor measurement  21\n",
        "\n",
        "\n",
        "\n",
        "Data Set: FD001 \n",
        "Train trajectories: 100\n",
        "Test trajectories: 100\n",
        "Conditions: ONE (Sea Level)\n",
        "Fault Modes: ONE (HPC Degradation)\n",
        "\n",
        "Data Set: FD002\n",
        "Train trajectories: 260\n",
        "Test trajectories: 259\n",
        "Conditions: SIX \n",
        "Fault Modes: ONE (HPC Degradation)\n",
        "\n",
        "Data Set: FD003\n",
        "Train trajectories: 100\n",
        "Test trajectories: 100\n",
        "Conditions: ONE (Sea Level)\n",
        "Fault Modes: TWO (HPC Degradation, Fan Degradation)\n",
        "\n",
        "Data Set: FD004\n",
        "Train trajectories: 248\n",
        "Test trajectories: 249\n",
        "Conditions: SIX \n",
        "Fault Modes: TWO (HPC Degradation, Fan Degradation)\n",
        "\n",
        "A. Saxena and K. Goebel (2008). “Turbofan Engine Degradation Simulation Data Set”, NASA Prognostics Data Repository, NASA Ames Research Center, Moffett Field, CA"
      ]
    },
    {
      "cell_type": "markdown",
      "metadata": {},
      "source": [
        "## A selection of papers which use this dataset\n",
        "\n",
        "Performance Benchmarking and Analysis of Prognostic Methods for CMAPSS Datasets\n",
        "\n",
        "https://doi.org/10.36001/ijphm.2014.v5i2.2236\n",
        "\n",
        "Remaining useful life estimation via transformer encoder enhanced by a gated convolutional unit\n",
        "\n",
        "https://link.springer.com/article/10.1007/s10845-021-01750-x\n",
        "\n",
        "Variational encoding approach for interpretable assessment of remaining useful life estimation\n",
        "\n",
        "https://www.sciencedirect.com/science/article/pii/S0951832022000321?via%3Dihub\n",
        "\n",
        "Exploratory Data Analysis of the N-CMAPSS Dataset for Prognostics\n",
        "\n",
        "https://ieeexplore.ieee.org/document/9673064\n",
        "\n",
        "\n",
        "\n",
        "\n",
        "\n"
      ]
    },
    {
      "cell_type": "code",
      "execution_count": null,
      "metadata": {
        "trusted": true
      },
      "outputs": [],
      "source": [
        "import pandas\n",
        "import os\n",
        "files={'RUL':['RUL_FD001.txt','RUL_FD002.txt','RUL_FD003.txt','RUL_FD004.txt'],\n",
        "        'test':['test_FD001.txt','test_FD002.txt','test_FD003.txt','test_FD004.txt'],\n",
        "        'train':['train_FD001.txt','train_FD002.txt','train_FD003.txt','train_FD004.txt']}\n",
        "tt_header = ['unit number',\n",
        "             'time',\n",
        "             'operational setting 1',\n",
        "             'operational setting 2',\n",
        "             'operational setting 3',\n",
        "             'sensor measurement 1',\n",
        "             'sensor measurement 2',\n",
        "             'sensor measurement 3',\n",
        "             'sensor measurement 4',\n",
        "             'sensor measurement 5',\n",
        "             'sensor measurement 6',\n",
        "             'sensor measurement 7',\n",
        "             'sensor measurement 8',\n",
        "             'sensor measurement 9',\n",
        "             'sensor measurement 10',\n",
        "             'sensor measurement 11',\n",
        "             'sensor measurement 12',\n",
        "             'sensor measurement 13',\n",
        "             'sensor measurement 14',\n",
        "             'sensor measurement 15',\n",
        "             'sensor measurement 16',\n",
        "             'sensor measurement 17',\n",
        "             'sensor measurement 18',\n",
        "             'sensor measurement 19',\n",
        "             'sensor measurement 20',\n",
        "             'sensor measurement 21']\n",
        "# https://pandas.pydata.org/pandas-docs/stable/reference/api/pandas.read_csv.html\n",
        "trainingdata = pandas.read_csv(os.path.join('data/CMAPSS',files['train'][0]),sep=' ',names=tt_header, index_col=False)\n",
        "testingdata = pandas.read_csv(os.path.join('data/CMAPSS',files['test'][0]),sep=' ',names=tt_header, index_col=False)\n",
        "testrul = pandas.read_csv(os.path.join('data/CMAPSS',files['RUL'][0]),sep=' ',names=['RUL'],index_col=False)\n",
        "\n"
      ]
    },
    {
      "cell_type": "code",
      "execution_count": null,
      "metadata": {},
      "outputs": [],
      "source": [
        "tt_header"
      ]
    },
    {
      "cell_type": "code",
      "execution_count": null,
      "metadata": {},
      "outputs": [],
      "source": [
        "trainingdata"
      ]
    },
    {
      "cell_type": "code",
      "execution_count": null,
      "metadata": {},
      "outputs": [],
      "source": [
        "testingdata"
      ]
    },
    {
      "cell_type": "code",
      "execution_count": null,
      "metadata": {},
      "outputs": [],
      "source": [
        "testrul['RUL'].loc[0]"
      ]
    },
    {
      "cell_type": "markdown",
      "metadata": {},
      "source": [
        "# Remaining Useful Life\n",
        "\n",
        "In the training data each unit runs until failure.  So the remaining useful life is the maximum cycle time recorded - the current number of cycles\n",
        "\n",
        "This needs to be calculated and added into the data"
      ]
    },
    {
      "cell_type": "code",
      "execution_count": null,
      "metadata": {},
      "outputs": [],
      "source": [
        "units = list(trainingdata['unit number'].unique())"
      ]
    },
    {
      "cell_type": "code",
      "execution_count": null,
      "metadata": {},
      "outputs": [],
      "source": [
        "trainingdata[trainingdata['unit number']==a]['time']"
      ]
    },
    {
      "cell_type": "code",
      "execution_count": null,
      "metadata": {},
      "outputs": [],
      "source": [
        "unit_failure_times = {}\n",
        "for a in units:\n",
        "    unit_failure_times[a] = max(trainingdata[trainingdata['unit number']==a]['time'])"
      ]
    },
    {
      "cell_type": "code",
      "execution_count": null,
      "metadata": {},
      "outputs": [],
      "source": [
        "unit_failure_times"
      ]
    },
    {
      "cell_type": "code",
      "execution_count": null,
      "metadata": {},
      "outputs": [],
      "source": [
        "trainingdata['RUL'] = trainingdata.apply(lambda r: unit_failure_times[r['unit number']] - r['time'],axis=1)"
      ]
    },
    {
      "cell_type": "code",
      "execution_count": null,
      "metadata": {},
      "outputs": [],
      "source": [
        "testingdata['RUL'] = trainingdata.apply(lambda r: testrul['RUL'].loc[r['unit number']-1] - r['time'],axis=1)"
      ]
    },
    {
      "cell_type": "code",
      "execution_count": null,
      "metadata": {
        "trusted": true
      },
      "outputs": [],
      "source": [
        "import matplotlib.pyplot as plt\n"
      ]
    },
    {
      "cell_type": "code",
      "execution_count": null,
      "metadata": {},
      "outputs": [],
      "source": [
        "fig, ax = plt.subplots()\n",
        "unitnumber=2\n",
        "for a in range(1,21):\n",
        "    ax.plot(trainingdata[trainingdata['unit number']==unitnumber]['RUL'],\n",
        "            trainingdata[trainingdata['unit number']==unitnumber]['sensor measurement {}'.format(a)])\n",
        "\n",
        "plt.show()"
      ]
    },
    {
      "cell_type": "code",
      "execution_count": null,
      "metadata": {},
      "outputs": [],
      "source": [
        "fig, ax = plt.subplots()\n",
        "unitnumber=1\n",
        "for a in range(1,21):\n",
        "    ax.plot(testingdata[testingdata['unit number']==unitnumber]['RUL'],\n",
        "            testingdata[testingdata['unit number']==unitnumber]['sensor measurement {}'.format(a)])\n",
        "\n",
        "plt.show()"
      ]
    },
    {
      "cell_type": "code",
      "execution_count": null,
      "metadata": {
        "trusted": true
      },
      "outputs": [],
      "source": [
        "import sklearn"
      ]
    },
    {
      "cell_type": "code",
      "execution_count": null,
      "metadata": {
        "trusted": true
      },
      "outputs": [],
      "source": [
        "from sklearn.decomposition import PCA"
      ]
    },
    {
      "cell_type": "markdown",
      "metadata": {},
      "source": [
        "Our features for training are all the data apart from the unit number, RUL, and time"
      ]
    },
    {
      "cell_type": "code",
      "execution_count": null,
      "metadata": {
        "trusted": true
      },
      "outputs": [],
      "source": [
        "features = tt_header[2:]"
      ]
    },
    {
      "cell_type": "code",
      "execution_count": null,
      "metadata": {
        "trusted": true
      },
      "outputs": [],
      "source": [
        "X_train = trainingdata.loc[:,features].values\n",
        "X_test = testingdata.loc[:,features].values"
      ]
    },
    {
      "cell_type": "code",
      "execution_count": null,
      "metadata": {
        "trusted": true
      },
      "outputs": [],
      "source": [
        "y_train = trainingdata.loc[:,'RUL'].values\n",
        "y_test = testingdata.loc[:,'RUL'].values"
      ]
    },
    {
      "cell_type": "code",
      "execution_count": null,
      "metadata": {
        "trusted": true
      },
      "outputs": [],
      "source": [
        "from sklearn.neural_network import MLPRegressor"
      ]
    },
    {
      "cell_type": "code",
      "execution_count": null,
      "metadata": {
        "trusted": true
      },
      "outputs": [],
      "source": [
        "y_train"
      ]
    },
    {
      "cell_type": "code",
      "execution_count": null,
      "metadata": {
        "trusted": true
      },
      "outputs": [],
      "source": [
        "regr = MLPRegressor(random_state=1, max_iter=5000000).fit(X_train, y_train)"
      ]
    },
    {
      "cell_type": "code",
      "execution_count": null,
      "metadata": {
        "trusted": true
      },
      "outputs": [],
      "source": [
        "regr.score(X_test, y_test)"
      ]
    },
    {
      "cell_type": "code",
      "execution_count": null,
      "metadata": {
        "trusted": true
      },
      "outputs": [],
      "source": [
        "regr.predict(X_test[:2])"
      ]
    },
    {
      "cell_type": "code",
      "execution_count": null,
      "metadata": {
        "trusted": true
      },
      "outputs": [],
      "source": [
        "from sklearn.preprocessing import StandardScaler"
      ]
    },
    {
      "cell_type": "code",
      "execution_count": null,
      "metadata": {
        "trusted": true
      },
      "outputs": [],
      "source": [
        "x = StandardScaler().fit_transform(X_train)"
      ]
    },
    {
      "cell_type": "code",
      "execution_count": null,
      "metadata": {
        "trusted": true
      },
      "outputs": [],
      "source": [
        "\n",
        "\n",
        "scaled_x = pandas.DataFrame(data = x, columns = features).head()\n",
        "\n"
      ]
    },
    {
      "cell_type": "code",
      "execution_count": null,
      "metadata": {
        "trusted": true
      },
      "outputs": [],
      "source": [
        "pca = PCA(n_components=2)"
      ]
    },
    {
      "cell_type": "code",
      "execution_count": null,
      "metadata": {
        "trusted": true
      },
      "outputs": [],
      "source": [
        "principalComponents = pca.fit_transform(x)"
      ]
    },
    {
      "cell_type": "code",
      "execution_count": null,
      "metadata": {
        "trusted": true
      },
      "outputs": [],
      "source": [
        "principalDf = pandas.DataFrame(data = principalComponents\n",
        "             , columns = ['principal component 1', 'principal component 2'])"
      ]
    },
    {
      "cell_type": "code",
      "execution_count": null,
      "metadata": {
        "trusted": true
      },
      "outputs": [],
      "source": [
        "principalDf.head(5)"
      ]
    },
    {
      "cell_type": "code",
      "execution_count": null,
      "metadata": {
        "trusted": true
      },
      "outputs": [],
      "source": [
        "principalDf['RUL'] = list(trainingdata['RUL'].copy())\n",
        "principalDf['unit number'] = list(trainingdata['unit number'].copy())"
      ]
    },
    {
      "cell_type": "code",
      "execution_count": null,
      "metadata": {
        "trusted": true
      },
      "outputs": [],
      "source": [
        "principalDf.head()"
      ]
    },
    {
      "cell_type": "code",
      "execution_count": null,
      "metadata": {
        "trusted": true
      },
      "outputs": [],
      "source": [
        "fig, ax = plt.subplots()\n",
        "unitnumber=2\n",
        "ax.scatter(principalDf[principalDf['unit number']==unitnumber]['RUL'],\n",
        "            principalDf[principalDf['unit number']==unitnumber]['principal component 2'])\n",
        "\n",
        "plt.show()"
      ]
    },
    {
      "cell_type": "code",
      "execution_count": null,
      "metadata": {
        "trusted": true
      },
      "outputs": [],
      "source": [
        "fig, ax = plt.subplots()\n",
        "for a in principalDf['unit number'].unique():\n",
        "    ax.scatter(principalDf[principalDf['unit number']==a]['principal component 1'],\n",
        "                principalDf[principalDf['unit number']==a]['principal component 2'],label='Unit {}'.format(a))\n",
        "plt.legend(bbox_to_anchor=(1,1), loc=\"upper left\")\n",
        "plt.show()"
      ]
    },
    {
      "cell_type": "code",
      "execution_count": null,
      "metadata": {
        "trusted": true
      },
      "outputs": [],
      "source": [
        "fig, ax = plt.subplots()\n",
        "for a in principalDf['unit number'].unique():\n",
        "    ax.plot(principalDf[principalDf['unit number']==a]['RUL'],\n",
        "                principalDf[principalDf['unit number']==a]['principal component 1'],label='Unit {}'.format(a))\n",
        "plt.legend(bbox_to_anchor=(1,1), loc=\"upper left\")\n",
        "plt.show()"
      ]
    },
    {
      "cell_type": "code",
      "execution_count": null,
      "metadata": {},
      "outputs": [],
      "source": [
        "fig, ax = plt.subplots()\n",
        "for a in principalDf['unit number'].unique():\n",
        "    ax.plot(principalDf[principalDf['unit number']==a]['RUL'],\n",
        "                principalDf[principalDf['unit number']==a]['principal component 2'],label='Unit {}'.format(a))\n",
        "plt.legend(bbox_to_anchor=(1,1), loc=\"upper left\")\n",
        "plt.show()"
      ]
    },
    {
      "cell_type": "code",
      "execution_count": null,
      "metadata": {
        "trusted": true
      },
      "outputs": [],
      "source": [
        "pca.explained_variance_ratio_"
      ]
    },
    {
      "cell_type": "code",
      "execution_count": null,
      "metadata": {},
      "outputs": [],
      "source": []
    }
  ],
  "metadata": {
    "kernelspec": {
      "display_name": "Python (Pyodide)",
      "language": "python",
      "name": "python"
    },
    "language_info": {
      "codemirror_mode": {
        "name": "python",
        "version": 3
      },
      "file_extension": ".py",
      "mimetype": "text/x-python",
      "name": "python",
      "nbconvert_exporter": "python",
      "pygments_lexer": "ipython3",
      "version": "3.8"
    },
    "vscode": {
      "interpreter": {
        "hash": "984286ea45d3c3cd8adeef721a832682f0fb32782b1c0b9ca5c3f126d4637606"
      }
    }
  },
  "nbformat": 4,
  "nbformat_minor": 4
}
